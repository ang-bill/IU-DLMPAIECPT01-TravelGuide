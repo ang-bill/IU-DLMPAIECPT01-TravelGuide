{
 "cells": [
  {
   "cell_type": "code",
   "execution_count": 14,
   "id": "0cbeab7b-b26c-4991-9e95-a83f854d7f0d",
   "metadata": {},
   "outputs": [
    {
     "name": "stdout",
     "output_type": "stream",
     "text": [
      "search images\n",
      "get_image_url\n",
      "Title: File:Ansicht der Burgruine Lichtenegg von Süden.JPG\n",
      "URL: https://upload.wikimedia.org/wikipedia/commons/e/e7/Ansicht_der_Burgruine_Lichtenegg_von_S%C3%BCden.JPG\n",
      "\n",
      "get_image_url\n",
      "Title: File:Burgruine-Lichtenegg,Ansicht3.JPG\n",
      "URL: https://upload.wikimedia.org/wikipedia/commons/8/84/Burgruine-Lichtenegg%2CAnsicht3.JPG\n",
      "\n",
      "get_image_url\n",
      "Title: File:Burgruine-Lichtenegg,Ansicht4.JPG\n",
      "URL: https://upload.wikimedia.org/wikipedia/commons/b/b2/Burgruine-Lichtenegg%2CAnsicht4.JPG\n",
      "\n",
      "get_image_url\n",
      "Title: File:Burgruine-Lichtenegg,Bergfried.JPG\n",
      "URL: https://upload.wikimedia.org/wikipedia/commons/f/f1/Burgruine-Lichtenegg%2CBergfried.JPG\n",
      "\n",
      "get_image_url\n",
      "Title: File:Burgruine-Lichtenegg,Ansicht2.jpg\n",
      "URL: https://upload.wikimedia.org/wikipedia/commons/9/94/Burgruine-Lichtenegg%2CAnsicht2.jpg\n",
      "\n",
      "get_image_url\n",
      "Title: File:Burgruine Lichtenegg (Birgland).PNG\n",
      "URL: https://upload.wikimedia.org/wikipedia/commons/7/75/Burgruine_Lichtenegg_%28Birgland%29.PNG\n",
      "\n",
      "get_image_url\n",
      "Title: File:Burgruine-Lichtenegg,Ansicht1.jpg\n",
      "URL: https://upload.wikimedia.org/wikipedia/commons/4/4c/Burgruine-Lichtenegg%2CAnsicht1.jpg\n",
      "\n",
      "get_image_url\n",
      "Title: File:Lichtenegg mit Burgruine im Herbst - panoramio.jpg\n",
      "URL: https://upload.wikimedia.org/wikipedia/commons/5/5a/Lichtenegg_mit_Burgruine_im_Herbst_-_panoramio.jpg\n",
      "\n",
      "get_image_url\n",
      "Title: File:Burgruine Lichtenegg, Wartberg im Mürztal 01.jpg\n",
      "URL: https://upload.wikimedia.org/wikipedia/commons/c/cb/Burgruine_Lichtenegg%2C_Wartberg_im_M%C3%BCrztal_01.jpg\n",
      "\n",
      "get_image_url\n",
      "Title: File:Burgruine Lichtenegg, Wartberg im Mürztal 02.jpg\n",
      "URL: https://upload.wikimedia.org/wikipedia/commons/4/48/Burgruine_Lichtenegg%2C_Wartberg_im_M%C3%BCrztal_02.jpg\n",
      "\n"
     ]
    }
   ],
   "source": [
    "import requests\n",
    "\n",
    "def search_images(query):\n",
    "    print(\"search images\")\n",
    "    url = \"https://commons.wikimedia.org/w/api.php\"\n",
    "    params = {\n",
    "        \"action\": \"query\",\n",
    "        \"list\": \"search\",\n",
    "        \"srsearch\": query,\n",
    "        \"srnamespace\": \"6\",  # File namespace\n",
    "        \"srlimit\": \"10\",  # Number of results\n",
    "        \"format\": \"json\"\n",
    "    }\n",
    "    response = requests.get(url, params=params)\n",
    "    data = response.json()\n",
    "    return data[\"query\"][\"search\"]\n",
    "\n",
    "def get_image_url(page_id):\n",
    "    print(\"get_image_url\")\n",
    "    url = \"https://commons.wikimedia.org/w/api.php\"\n",
    "    params = {\n",
    "        \"action\": \"query\",\n",
    "        \"prop\": \"imageinfo\",\n",
    "        \"pageids\": page_id,\n",
    "        \"iiprop\": \"url\",\n",
    "        \"format\": \"json\"\n",
    "    }\n",
    "    response = requests.get(url, params=params)\n",
    "    data = response.json()\n",
    "    page_id = str(page_id)\n",
    "    image_url = data[\"query\"][\"pages\"][page_id][\"imageinfo\"][0][\"url\"]\n",
    "    return image_url\n",
    "\n",
    "def main():\n",
    "    #query = \"Burgruine Lichtenegg im Waldviertel\"\n",
    "    #query = \"Lichtenegg\"\n",
    "    #query = \"Burgruine%20Lichtenegg%20im%20Waldviertel\"\n",
    "    #query = \"Eiffel Waldviertel\"\n",
    "    query = \"Burgruine Lichtenegg\"\n",
    "    results = search_images(query)\n",
    "    for result in results:\n",
    "        page_id = result[\"pageid\"]\n",
    "        image_url = get_image_url(page_id)\n",
    "        print(f\"Title: {result['title']}\")\n",
    "        print(f\"URL: {image_url}\")\n",
    "        print()\n",
    "\n",
    "\n",
    "main()"
   ]
  },
  {
   "cell_type": "code",
   "execution_count": 18,
   "id": "063f1261-b1fb-43ae-92f2-c5eae89ec69d",
   "metadata": {},
   "outputs": [
    {
     "name": "stdout",
     "output_type": "stream",
     "text": [
      "The image link is valid.\n"
     ]
    }
   ],
   "source": [
    "import requests\n",
    "\n",
    "def is_image_link_valid(url):\n",
    "    try:\n",
    "        headers = {\"User-Agent\": \"Mozilla/5.0\"}\n",
    "        response = requests.head(url, headers=headers, allow_redirects=True)\n",
    "        if response.status_code == 200:\n",
    "            content_type = response.headers.get(\"Content-Type\")\n",
    "            if content_type and content_type.startswith(\"image/\"):\n",
    "                return True\n",
    "    except requests.RequestException:\n",
    "        pass\n",
    "    return False\n",
    "\n",
    "image_url = \"https://upload.wikimedia.org/wikipedia/commons/8/84/Burgruine-Lichtenegg%2CAnsicht3.JPG\"\n",
    "if is_image_link_valid(image_url):\n",
    "    print(\"The image link is valid.\")\n",
    "else:\n",
    "    print(\"The image link is not valid.\")"
   ]
  }
 ],
 "metadata": {
  "kernelspec": {
   "display_name": "Python 3.9",
   "language": "python",
   "name": "python39"
  },
  "language_info": {
   "codemirror_mode": {
    "name": "ipython",
    "version": 3
   },
   "file_extension": ".py",
   "mimetype": "text/x-python",
   "name": "python",
   "nbconvert_exporter": "python",
   "pygments_lexer": "ipython3",
   "version": "3.9.1"
  }
 },
 "nbformat": 4,
 "nbformat_minor": 5
}
