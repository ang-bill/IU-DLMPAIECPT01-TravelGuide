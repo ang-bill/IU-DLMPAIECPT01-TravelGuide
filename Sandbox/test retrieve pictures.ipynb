{
 "cells": [
  {
   "cell_type": "code",
   "execution_count": 3,
   "id": "eb88c362-e914-4921-8211-a49eb64f1fb2",
   "metadata": {},
   "outputs": [
    {
     "name": "stdout",
     "output_type": "stream",
     "text": [
      "Direct image URL: https://upload.wikimedia.org/wikipedia/commons/8/89/Kath._Pfarrkirche_hl._Martin_in_Sankt_Martin_-_Altar.jpg\n",
      "Image downloaded as Kath._Pfarrkirche_hl._Martin_in_Sankt_Martin_-_Altar.jpg\n"
     ]
    }
   ],
   "source": [
    "import requests\n",
    "from bs4 import BeautifulSoup\n",
    "import os\n",
    "\n",
    "# The Wikimedia Commons file page URL\n",
    "file_page_url = 'https://commons.wikimedia.org/wiki/File:Kath._Pfarrkirche_hl._Martin_in_Sankt_Martin_-_Altar.jpg'\n",
    "\n",
    "# 1. Get the file description page\n",
    "headers = {'User-Agent': 'Mozilla/5.0'}  # Helps avoid potential blocking\n",
    "response = requests.get(file_page_url, headers=headers)\n",
    "soup = BeautifulSoup(response.content, 'html.parser')\n",
    "\n",
    "# 2. Find the direct image URL (it is in the 'fullMedia' class or 'a' with class 'internal')\n",
    "image_link = soup.find('a', class_='internal')\n",
    "if image_link:\n",
    "    #image_url = 'https:' + image_link['href']\n",
    "    image_url = image_link['href']\n",
    "    print(f'Direct image URL: {image_url}')\n",
    "\n",
    "    # 3. Download the image\n",
    "    image_response = requests.get(image_url, headers=headers)\n",
    "    filename = os.path.basename(image_url)\n",
    "\n",
    "    with open(filename, 'wb') as f:\n",
    "        f.write(image_response.content)\n",
    "    print(f'Image downloaded as {filename}')\n",
    "else:\n",
    "    print('Could not find the direct image link.')\n"
   ]
  }
 ],
 "metadata": {
  "kernelspec": {
   "display_name": "Python 3.9",
   "language": "python",
   "name": "python39"
  },
  "language_info": {
   "codemirror_mode": {
    "name": "ipython",
    "version": 3
   },
   "file_extension": ".py",
   "mimetype": "text/x-python",
   "name": "python",
   "nbconvert_exporter": "python",
   "pygments_lexer": "ipython3",
   "version": "3.9.1"
  }
 },
 "nbformat": 4,
 "nbformat_minor": 5
}
