{
 "cells": [
  {
   "cell_type": "code",
   "execution_count": 76,
   "id": "37595f71-49ca-4cd4-93b7-7a92050816ca",
   "metadata": {},
   "outputs": [
    {
     "name": "stdout",
     "output_type": "stream",
     "text": [
      "✅ HTML generated: html/poi_pfarrkirche-8-gemini.html\n"
     ]
    },
    {
     "data": {
      "text/plain": [
       "True"
      ]
     },
     "execution_count": 76,
     "metadata": {},
     "output_type": "execute_result"
    }
   ],
   "source": [
    "from jinja2 import Environment, FileSystemLoader\n",
    "#import weasyprint\n",
    "\n",
    "# Example POI data (replace dynamically with your output)\n",
    "poi_data = {\n",
    "    'poi_name': 'Pfarrkirche St. Martin im Waldviertel',\n",
    "    'poi_type': 'Historic Church',\n",
    "    'gps_lon': '14.83901',\n",
    "    'gps_lat': '48.66438',\n",
    "    'overview': {\n",
    "        'duration': '45–60 min (excluding picnic)',\n",
    "        'best_time': 'Late afternoon, for warm light on the western facade',\n",
    "        'wc': 'Public WC in Groß Gerungs town center (5 min drive)'\n",
    "    },\n",
    "    'need_to_know': {\n",
    "        'parking': 'Ample free parking near the church',\n",
    "        'accessibility': 'Gravel path to the entrance, some uneven terrain',\n",
    "        'kid_dog_friendly': '✔️ Yes (churchyard suitable for supervised play and dogs on leash)',\n",
    "        'picnic_spots': 'Scenic spots along the nearby Kamp river or in the churchyard',\n",
    "        'flexible_weather_option': 'Interior visit offers shelter; nearby Groß Gerungs has cafes and a small museum'\n",
    "    },\n",
    "    'wikimedia_urls': [\n",
    "                'https://upload.wikimedia.org/wikipedia/commons/8/89/Kath._Pfarrkirche_hl._Martin_in_Sankt_Martin_-_Altar.jpg', \n",
    "               'https://upload.wikimedia.org/wikipedia/commons/thumb/b/b6/Kath._Pfarrkirche_hl._Martin_in_Sankt_Martin_2017.jpg/500px-Kath._Pfarrkirche_hl._Martin_in_Sankt_Martin_2017.jpg?20180721094305', \n",
    "               'https://upload.wikimedia.org/wikipedia/commons/7/7d/Kath._Pfarrkirche_hl._Martin_in_Sankt_Martin_-_Figur_Johannes_Nepomuks.jpg'\n",
    "    ],\n",
    "    'description': \"\"\"\n",
    "    Well now, folks, if you fancy a bit of time-travel without the fuss of a contraption that sputters and coughs, then hitch your wagon (or rather, fire up that off-road chariot of yours) and make a beeline for the Pfarrkirche St. Martin in the venerable Waldviertel. Now, you might think you've seen your share of old stones piled high, but this ain't just any collection of weathered granite. This here church, perched as it is in the heart of Lower Austria, whispers tales of centuries gone by, a genuine article of both Romanesque grit and Gothic grace.\n",
    "\n",
    "    Having already traipsed through the usual tourist haunts, you're likely hankering for something a tad more… shall we say, seasoned? Fear not, for St. Martin offers just that. Imagine, if you will, the stout Romanesque foundations, laid down when knights were bold and plumbing was… well, let's not dwell on that. Then, as the centuries rolled on like the mighty Danube, along came the soaring Gothic arches, reaching for the heavens as if trying to catch a particularly juicy cloud. It's a visual duet, a conversation between two distinct eras of craftsmanship, all etched in stone for your discerning eye.\n",
    "\n",
    "    Given your penchant for scenic routes, the drive from Wilhelmsburg itself is a treat for the peepers, a winding dance through the verdant tapestry of the Waldviertel. And with that trusty off-road steed, you'll have no trouble venturing off the beaten path to find that perfect spot for a family picnic. Picture this: a checkered blanket spread out amidst nature's finery, the little tyke giggling, the big ol' dog snoozing in the shade, and you, basking in the tranquility, perhaps with the ancient stones of St. Martin keeping a silent watch in the distance.\n",
    "\n",
    "    Now, the weather, as we all know, can be as fickle as a politician's promises. But fret not! Should the skies decide to weep a bit, the interior of St. Martin offers a dry and contemplative escape. And if the young'un gets a mite restless, a short jaunt to the nearby town of Groß Gerungs offers the civilized comforts of cafes and perhaps even a small museum to pique the interest. So pack your curiosity, your picnic basket, and maybe a sturdy umbrella – adventure, seasoned with history and scenery, awaits!\n",
    "    \"\"\",\n",
    "    'did_you_know': [\n",
    "        'The church tower, while now sporting a more common roof, likely had a steeper, pyramid-like roof in its early Romanesque days.',\n",
    "        'Keep an eye out for the distinct change in stonework, hinting at the different construction phases over the centuries.',\n",
    "        'The surrounding graveyard, often overlooked, can hold fascinating stories etched in weathered tombstones.',\n",
    "        'Local legend has it that some of the stones used in the church\\'s construction came from a nearby ancient site, perhaps even pre-Christian.',\n",
    "        'The church bells have likely rung out for countless village celebrations, warnings, and calls to prayer throughout its long history.'\n",
    "    ],\n",
    "    'riddles': [\n",
    "        'Seek out the oldest part of the church still visible today – what architectural style does it primarily represent?',\n",
    "        'How many main windows illuminate the altar area, offering a glimpse of the outside world?',\n",
    "        'Look closely at the exterior walls – can you spot any carvings or symbols that might tell a story?',\n",
    "        'Imagine the landscape when the first stones of this church were laid – what major geographical feature would have dominated the view?',\n",
    "        'Consider the different architectural styles present – which one do you think was added later, reaching for more height and light?'\n",
    "    ],\n",
    "    'riddle_answers': [\n",
    "        'Romanesque',\n",
    "        'That\\'s for you to count!',\n",
    "        'Keep your eyes peeled!',\n",
    "        'Likely vast forests, hence the name Waldviertel (Forest Quarter).',\n",
    "        'Likely the Gothic elements, with their pointed arches and larger windows.'\n",
    "    ]\n",
    "}\n",
    "\n",
    "# Add Geoapify key afterwards\n",
    "poi_data['geoapify_key'] = '19070e5cdcd94baabb80cad9e9030be8'\n",
    "\n",
    "# Loop through wikimedia-urls and retrieve images\n",
    "if 'images' not in poi_data:\n",
    "    poi_data['images'] = []\n",
    "for wikimedia_url in poi_data['wikimedia_urls']:\n",
    "    poi_data['images'].append(wikimedia_url)\n",
    "\n",
    "# Render template\n",
    "env = Environment(loader=FileSystemLoader('.'))\n",
    "template = env.get_template('/template/poi_template-8.html')\n",
    "html_out = template.render(**poi_data)\n",
    "\n",
    "# Write HTML to file (optional)\n",
    "with open('html/poi_pfarrkirche-8-gemini.html', 'w', encoding='utf-8') as f:\n",
    "    f.write(html_out)\n",
    "\n",
    "print(\"✅ HTML generated: html/poi_pfarrkirche-8-gemini.html\")\n",
    "\n",
    "import pdfkit\n",
    "\n",
    "options = {\n",
    "    'page-size': 'A4',\n",
    "    'margin-top': '20mm',\n",
    "    'margin-right': '20mm',\n",
    "    'margin-bottom': '20mm',\n",
    "    'margin-left': '20mm',\n",
    "    'encoding': \"UTF-8\",\n",
    "    'no-outline': None,\n",
    "    'enable-local-file-access': None\n",
    "}\n",
    "\n",
    "pdfkit.from_string(html_out, 'pdf/poi_pfarrkirche-8-gemini.pdf', options=options)"
   ]
  },
  {
   "cell_type": "code",
   "execution_count": 68,
   "id": "4729af2f-8e09-41bc-bbae-55d245a6a13d",
   "metadata": {},
   "outputs": [
    {
     "name": "stdout",
     "output_type": "stream",
     "text": [
      "✅ HTML generated: html/poi_pfarrkirche-8.html\n"
     ]
    },
    {
     "data": {
      "text/plain": [
       "True"
      ]
     },
     "execution_count": 68,
     "metadata": {},
     "output_type": "execute_result"
    }
   ],
   "source": [
    "from jinja2 import Environment, FileSystemLoader\n",
    "#import weasyprint\n",
    "\n",
    "# Example POI data (replace dynamically with your output)\n",
    "poi_data = {\n",
    "    'poi_name': 'Pfarrkirche St. Martin im Waldviertel',\n",
    "    'poi_type': 'Historic Church',\n",
    "    'gps_lon': '14.83901',\n",
    "    'gps_lat': '48.66438',\n",
    "    'overview': {\n",
    "        'duration': '30–45 min',\n",
    "        'best_time': 'Morning, for sunlit façade',\n",
    "        'wc': 'In nearby community center (100m)'\n",
    "    },\n",
    "    'need_to_know': {\n",
    "        'parking': 'Free on-street',\n",
    "        'accessibility': 'Steps at entrance (no ramp)',\n",
    "        'kid_dog_friendly': '✔️ Yes',\n",
    "        'picnic_spots': 'Churchyard benches'\n",
    "    },\n",
    "    'wikimedia_urls': [\n",
    "                'https://upload.wikimedia.org/wikipedia/commons/8/89/Kath._Pfarrkirche_hl._Martin_in_Sankt_Martin_-_Altar.jpg', \n",
    "               'https://upload.wikimedia.org/wikipedia/commons/thumb/b/b6/Kath._Pfarrkirche_hl._Martin_in_Sankt_Martin_2017.jpg/500px-Kath._Pfarrkirche_hl._Martin_in_Sankt_Martin_2017.jpg?20180721094305', \n",
    "               'https://upload.wikimedia.org/wikipedia/commons/7/7d/Kath._Pfarrkirche_hl._Martin_in_Sankt_Martin_-_Figur_Johannes_Nepomuks.jpg'],\n",
    "    'description': \"\"\"Standing firm on its rocky perch for nearly 900 years, Pfarrkirche St. Martin is less a building and more a chronicle written in stone. Originally a Romanesque choir tower church...\"\"\",\n",
    "    'did_you_know': [\n",
    "        'The church’s tower once had a steep spandrel roof typical of Romanesque design.',\n",
    "        'It was likely founded by Hadmar II of Kuenring in 1217.'\n",
    "    ],\n",
    "    'riddles': [\n",
    "        'Find the Romanesque twin window — how many openings remain unsealed?',\n",
    "        'Which saint flanks St. Martin at the altar on the left side?'\n",
    "    ]\n",
    "}\n",
    "\n",
    "# Add Geoapify key afterwards\n",
    "poi_data['geoapify_key'] = '19070e5cdcd94baabb80cad9e9030be8'\n",
    "\n",
    "# Loop through wikimedia-urls and retrieve images\n",
    "if 'images' not in poi_data:\n",
    "    poi_data['images'] = []\n",
    "for wikimedia_url in poi_data['wikimedia_urls']:\n",
    "    poi_data['images'].append(wikimedia_url)\n",
    "\n",
    "# Render template\n",
    "env = Environment(loader=FileSystemLoader('.'))\n",
    "template = env.get_template('/template/poi_template-8.html')\n",
    "html_out = template.render(**poi_data)\n",
    "\n",
    "# Write HTML to file (optional)\n",
    "with open('html/poi_pfarrkirche-8.html', 'w', encoding='utf-8') as f:\n",
    "    f.write(html_out)\n",
    "\n",
    "print(\"✅ HTML generated: html/poi_pfarrkirche-8.html\")\n",
    "\n",
    "import pdfkit\n",
    "\n",
    "options = {\n",
    "    'page-size': 'A4',\n",
    "    'margin-top': '20mm',\n",
    "    'margin-right': '20mm',\n",
    "    'margin-bottom': '20mm',\n",
    "    'margin-left': '20mm',\n",
    "    'encoding': \"UTF-8\",\n",
    "    'no-outline': None,\n",
    "    'enable-local-file-access': None\n",
    "}\n",
    "\n",
    "pdfkit.from_string(html_out, 'pdf/poi_pfarrkirche-8.pdf', options=options)"
   ]
  },
  {
   "cell_type": "code",
   "execution_count": 52,
   "id": "edbadee3-86ab-4187-b840-73c35a18b88a",
   "metadata": {},
   "outputs": [
    {
     "name": "stdout",
     "output_type": "stream",
     "text": [
      "✅ HTML generated: html/poi_pfarrkirche-6.html\n"
     ]
    }
   ],
   "source": [
    "from jinja2 import Environment, FileSystemLoader\n",
    "#import weasyprint\n",
    "\n",
    "# Example POI data (replace dynamically with your output)\n",
    "poi_data = {\n",
    "    'poi_name': 'Pfarrkirche St. Martin im Waldviertel',\n",
    "    'location_link': 'https://goo.gl/maps/xyz',\n",
    "    'poi_type': 'Historic Church',\n",
    "    'gps_lon': '14.83901',\n",
    "    'gps_lat': '48.66438',\n",
    "    'duration': '30–45 min',\n",
    "    'kid_dog_friendly': '✔️ Yes',\n",
    "    'picnic_spots': 'Churchyard benches',\n",
    "    'images': ['https://upload.wikimedia.org/wikipedia/commons/8/89/Kath._Pfarrkirche_hl._Martin_in_Sankt_Martin_-_Altar.jpg', \n",
    "               'https://upload.wikimedia.org/wikipedia/commons/8/89/Kath._Pfarrkirche_hl._Martin_in_Sankt_Martin_-_Altar.jpg', \n",
    "               'https://upload.wikimedia.org/wikipedia/commons/8/89/Kath._Pfarrkirche_hl._Martin_in_Sankt_Martin_-_Altar.jpg'],\n",
    "    'description': \"\"\"Standing firm on its rocky perch for nearly 900 years, Pfarrkirche St. Martin is less a building and more a chronicle written in stone. Originally a Romanesque choir tower church...\"\"\",\n",
    "    'did_you_know': [\n",
    "        'The church’s tower once had a steep spandrel roof typical of Romanesque design.',\n",
    "        'It was likely founded by Hadmar II of Kuenring in 1217.'\n",
    "    ],\n",
    "    'riddles': [\n",
    "        'Find the Romanesque twin window — how many openings remain unsealed?',\n",
    "        'Which saint flanks St. Martin at the altar on the left side?'\n",
    "    ],\n",
    "    'parking': 'Free on-street',\n",
    "    'wc': 'In nearby community center (100m)',\n",
    "    'best_time': 'Morning, for sunlit façade',\n",
    "    'accessibility': 'Steps at entrance (no ramp)'\n",
    "}\n",
    "\n",
    "# Add Geoapify key afterwards\n",
    "poi_data['geoapify_key'] = '19070e5cdcd94baabb80cad9e9030be8'\n",
    "\n",
    "# Render template\n",
    "env = Environment(loader=FileSystemLoader('.'))\n",
    "template = env.get_template('/template/poi_template-6.html')\n",
    "html_out = template.render(**poi_data)\n",
    "\n",
    "# Write HTML to file (optional)\n",
    "with open('html/poi_pfarrkirche-6.html', 'w', encoding='utf-8') as f:\n",
    "    f.write(html_out)\n",
    "\n",
    "print(\"✅ HTML generated: html/poi_pfarrkirche-6.html\")\n"
   ]
  },
  {
   "cell_type": "code",
   "execution_count": 53,
   "id": "cb90d59b-a0e5-4228-9aa9-cf3445df7fe8",
   "metadata": {},
   "outputs": [
    {
     "data": {
      "text/plain": [
       "True"
      ]
     },
     "execution_count": 53,
     "metadata": {},
     "output_type": "execute_result"
    }
   ],
   "source": [
    "import pdfkit\n",
    "\n",
    "options = {\n",
    "    'page-size': 'A4',\n",
    "    'margin-top': '20mm',\n",
    "    'margin-right': '20mm',\n",
    "    'margin-bottom': '20mm',\n",
    "    'margin-left': '20mm',\n",
    "    'encoding': \"UTF-8\",\n",
    "    'no-outline': None,\n",
    "    'enable-local-file-access': None\n",
    "}\n",
    "\n",
    "pdfkit.from_string(html_out, 'pdf/poi_pfarrkirche-6.pdf', options=options)"
   ]
  },
  {
   "cell_type": "code",
   "execution_count": 15,
   "id": "e33ca012-2dab-48d3-8646-ce55687856f3",
   "metadata": {},
   "outputs": [
    {
     "name": "stdout",
     "output_type": "stream",
     "text": [
      "✅ HTML generated: html/poi_pfarrkirche-5.html\n"
     ]
    }
   ],
   "source": [
    "from jinja2 import Environment, FileSystemLoader\n",
    "#import weasyprint\n",
    "\n",
    "# Example POI data (replace dynamically with your output)\n",
    "poi_data = {\n",
    "    'poi_name': 'Pfarrkirche St. Martin im Waldviertel',\n",
    "    'location_link': 'https://goo.gl/maps/xyz',\n",
    "    'poi_type': 'Historic Church',\n",
    "    'gps': '48.66438,14.83901',\n",
    "    'duration': '30–45 min',\n",
    "    'kid_dog_friendly': '✔️ Yes',\n",
    "    'picnic_spots': 'Churchyard benches',\n",
    "    'images': ['https://upload.wikimedia.org/wikipedia/commons/8/89/Kath._Pfarrkirche_hl._Martin_in_Sankt_Martin_-_Altar.jpg', \n",
    "               'https://upload.wikimedia.org/wikipedia/commons/8/89/Kath._Pfarrkirche_hl._Martin_in_Sankt_Martin_-_Altar.jpg', \n",
    "               'https://upload.wikimedia.org/wikipedia/commons/8/89/Kath._Pfarrkirche_hl._Martin_in_Sankt_Martin_-_Altar.jpg'],\n",
    "    'description': \"\"\"Standing firm on its rocky perch for nearly 900 years, Pfarrkirche St. Martin is less a building and more a chronicle written in stone. Originally a Romanesque choir tower church...\"\"\",\n",
    "    'did_you_know': [\n",
    "        'The church’s tower once had a steep spandrel roof typical of Romanesque design.',\n",
    "        'It was likely founded by Hadmar II of Kuenring in 1217.'\n",
    "    ],\n",
    "    'riddles': [\n",
    "        'Find the Romanesque twin window — how many openings remain unsealed?',\n",
    "        'Which saint flanks St. Martin at the altar on the left side?'\n",
    "    ],\n",
    "    'parking': 'Free on-street',\n",
    "    'wc': 'In nearby community center (100m)',\n",
    "    'best_time': 'Morning, for sunlit façade',\n",
    "    'accessibility': 'Steps at entrance (no ramp)',\n",
    "    'map_image': 'map_pfarrkirche.png'\n",
    "}\n",
    "\n",
    "# Render template\n",
    "env = Environment(loader=FileSystemLoader('.'))\n",
    "template = env.get_template('/template/poi_template-5.html')\n",
    "html_out = template.render(**poi_data)\n",
    "\n",
    "# Write HTML to file (optional)\n",
    "with open('html/poi_pfarrkirche-5.html', 'w', encoding='utf-8') as f:\n",
    "    f.write(html_out)\n",
    "\n",
    "print(\"✅ HTML generated: html/poi_pfarrkirche-5.html\")\n"
   ]
  },
  {
   "cell_type": "code",
   "execution_count": 19,
   "id": "e9d8db76-9245-436d-8bde-09e2155b2b55",
   "metadata": {},
   "outputs": [
    {
     "data": {
      "text/plain": [
       "True"
      ]
     },
     "execution_count": 19,
     "metadata": {},
     "output_type": "execute_result"
    }
   ],
   "source": [
    "import pdfkit\n",
    "\n",
    "options = {\n",
    "    'page-size': 'Letter',\n",
    "    'margin-top': '0.75in',\n",
    "    'margin-right': '0.75in',\n",
    "    'margin-bottom': '0.75in',\n",
    "    'margin-left': '0.75in',\n",
    "    'encoding': \"UTF-8\",\n",
    "    'no-outline': None\n",
    "}\n",
    "\n",
    "pdfkit.from_string(html_out, 'pdf/poi_pfarrkirche-5.pdf', options=options)"
   ]
  },
  {
   "cell_type": "code",
   "execution_count": 2,
   "id": "88735860-3043-47d1-96a4-fdf12e25eded",
   "metadata": {},
   "outputs": [
    {
     "data": {
      "text/plain": [
       "True"
      ]
     },
     "execution_count": 2,
     "metadata": {},
     "output_type": "execute_result"
    }
   ],
   "source": [
    "import pdfkit\n",
    "\n",
    "html = '''\n",
    "<!DOCTYPE html>\n",
    "<html>\n",
    "<head>\n",
    "    <title>PDF Example</title>\n",
    "</head>\n",
    "<body>\n",
    "    <h1>Hello, world!</h1>\n",
    "</body>\n",
    "</html>\n",
    "'''\n",
    "\n",
    "options = {\n",
    "    'page-size': 'Letter',\n",
    "    'margin-top': '0.75in',\n",
    "    'margin-right': '0.75in',\n",
    "    'margin-bottom': '0.75in',\n",
    "    'margin-left': '0.75in',\n",
    "    'encoding': \"UTF-8\",\n",
    "    'no-outline': None\n",
    "}\n",
    "\n",
    "pdfkit.from_string(html, 'pdf/example.pdf', options=options)"
   ]
  },
  {
   "cell_type": "code",
   "execution_count": null,
   "id": "f31abb85-823f-4113-986f-f24bdebd9bd3",
   "metadata": {},
   "outputs": [],
   "source": []
  }
 ],
 "metadata": {
  "citation-manager": {
   "items": {}
  },
  "kernelspec": {
   "display_name": "Python 3.9",
   "language": "python",
   "name": "python39"
  },
  "language_info": {
   "codemirror_mode": {
    "name": "ipython",
    "version": 3
   },
   "file_extension": ".py",
   "mimetype": "text/x-python",
   "name": "python",
   "nbconvert_exporter": "python",
   "pygments_lexer": "ipython3",
   "version": "3.9.1"
  }
 },
 "nbformat": 4,
 "nbformat_minor": 5
}
