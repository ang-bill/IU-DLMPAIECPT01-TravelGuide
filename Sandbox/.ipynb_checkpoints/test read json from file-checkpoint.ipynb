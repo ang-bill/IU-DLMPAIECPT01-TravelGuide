{
 "cells": [
  {
   "cell_type": "markdown",
   "id": "a4cf6bbb-5039-442b-b740-44ad2fc173ec",
   "metadata": {},
   "source": [
    "## read input"
   ]
  },
  {
   "cell_type": "code",
   "execution_count": 11,
   "id": "435e6c4c-6728-4f2d-ab8c-b7734710ecfd",
   "metadata": {},
   "outputs": [
    {
     "name": "stdout",
     "output_type": "stream",
     "text": [
      "{'destination': 'Waldviertel, starting from Wilhelmsburg, Lower Austria', 'duration': '3 days', 'preferences': 'History, Gothic and Romanesque architecture, natural monuments, scenic routes, picnics in nice surroundings', 'need': 'Flexibility for weather conditions, off-road car for overnight stay with family and big dog', 'context': 'Family trip with 2-year-old kid and big dog, avoid long trips. Take into account, that we already have been there, so we already know the usual tourist points.', 'tone': 'Mark Twain', 'style': 'Engaging and clear writing style'}\n"
     ]
    }
   ],
   "source": [
    "import json\n",
    "\n",
    "def read_json_file(file_path):\n",
    "    try:\n",
    "        with open(file_path, 'r') as file:\n",
    "            data = json.load(file)\n",
    "            return data\n",
    "    except FileNotFoundError:\n",
    "        print(f\"File {file_path} not found.\")\n",
    "        return None\n",
    "    except json.JSONDecodeError:\n",
    "        print(f\"Failed to parse JSON in file {file_path}.\")\n",
    "        return None\n",
    "\n",
    "\n",
    "# Read the JSON file\n",
    "details_json = read_json_file('../prompt/prompt-itinerary-detail-01.json')\n",
    "\n",
    "# Print the data\n",
    "if details_json:\n",
    "    print(details_json)"
   ]
  },
  {
   "cell_type": "code",
   "execution_count": 13,
   "id": "9add8f39-9ece-4806-9b20-801572da4896",
   "metadata": {},
   "outputs": [
    {
     "name": "stdout",
     "output_type": "stream",
     "text": [
      "JSON Data:\n",
      "{'destination': 'Waldviertel, starting from Wilhelmsburg, Lower Austria', 'duration': '3 days', 'preferences': 'History, Gothic and Romanesque architecture, natural monuments, scenic routes, picnics in nice surroundings', 'need': 'Flexibility for weather conditions, off-road car for overnight stay with family and big dog', 'context': 'Family trip with 2-year-old kid and big dog, avoid long trips. Take into account, that we already have been there, so we already know the usual tourist points.', 'tone': 'Mark Twain', 'style': 'Engaging and clear writing style'}\n"
     ]
    },
    {
     "ename": "NameError",
     "evalue": "name 'text_content' is not defined",
     "output_type": "error",
     "traceback": [
      "\u001b[1;31m---------------------------------------------------------------------------\u001b[0m",
      "\u001b[1;31mNameError\u001b[0m                                 Traceback (most recent call last)",
      "Cell \u001b[1;32mIn[13], line 56\u001b[0m\n\u001b[0;32m     53\u001b[0m     \u001b[38;5;28mprint\u001b[39m(\u001b[38;5;124m\"\u001b[39m\u001b[38;5;124mJSON Data:\u001b[39m\u001b[38;5;124m\"\u001b[39m)\n\u001b[0;32m     54\u001b[0m     \u001b[38;5;28mprint\u001b[39m(details_json)\n\u001b[1;32m---> 56\u001b[0m \u001b[38;5;28;01mif\u001b[39;00m \u001b[43mtext_content\u001b[49m \u001b[38;5;129;01mis\u001b[39;00m \u001b[38;5;129;01mnot\u001b[39;00m \u001b[38;5;28;01mNone\u001b[39;00m:\n\u001b[0;32m     57\u001b[0m     \u001b[38;5;28mprint\u001b[39m(\u001b[38;5;124m\"\u001b[39m\u001b[38;5;130;01m\\n\u001b[39;00m\u001b[38;5;124mText File Content:\u001b[39m\u001b[38;5;124m\"\u001b[39m)\n\u001b[0;32m     58\u001b[0m     \u001b[38;5;28mprint\u001b[39m(instructions_text)\n",
      "\u001b[1;31mNameError\u001b[0m: name 'text_content' is not defined"
     ]
    }
   ],
   "source": [
    "import json\n",
    "\n",
    "def read_json_file(file_path):\n",
    "    \"\"\"Reads and parses a JSON file.\n",
    "\n",
    "    Args:\n",
    "        file_path (str): The path to the JSON file.\n",
    "\n",
    "    Returns:\n",
    "        dict or list or None: The parsed JSON data, or None if an error occurs.\n",
    "    \"\"\"\n",
    "    try:\n",
    "        with open(file_path, 'r') as file:\n",
    "            data = json.load(file)\n",
    "            return data\n",
    "    except FileNotFoundError:\n",
    "        print(f\"Error: JSON file not found at {file_path}\")\n",
    "        return None\n",
    "    except json.JSONDecodeError:\n",
    "        print(f\"Error: Failed to parse JSON in file {file_path}\")\n",
    "        return None\n",
    "\n",
    "def read_text_file(file_path):\n",
    "    \"\"\"Reads a plain text file.\n",
    "\n",
    "    Args:\n",
    "        file_path (str): The path to the text file.\n",
    "\n",
    "    Returns:\n",
    "        str or None: The content of the text file as a string, or None if an error occurs.\n",
    "    \"\"\"\n",
    "    try:\n",
    "        with open(file_path, 'r') as file:\n",
    "            content = file.read()\n",
    "            return content\n",
    "    except FileNotFoundError:\n",
    "        print(f\"Error: Text file not found at {file_path}\")\n",
    "        return None\n",
    "    except Exception as e:\n",
    "        print(f\"Error reading text file {file_path}: {e}\")\n",
    "        return None\n",
    "\n",
    "# Read the JSON file\n",
    "details_file_path = '../prompt/prompt-itinerary-detail-01.json'\n",
    "details_json = read_json_file(details_file_path)\n",
    "\n",
    "# Read the text file\n",
    "instructions_file_path = '../prompt/prompt-itinerary-instruction-01.txt' \n",
    "instructions_text = read_text_file(instructions_file_path)\n",
    "\n",
    "# Print the data from both files\n",
    "if details_json:\n",
    "    print(\"JSON Data:\")\n",
    "    print(details_json)\n",
    "\n",
    "if instructions_text is not None:\n",
    "    print(\"\\nText File Content:\")\n",
    "    print(instructions_text)"
   ]
  },
  {
   "cell_type": "code",
   "execution_count": 12,
   "id": "f6502b29-8f2c-4554-be7b-522f9fd58cc6",
   "metadata": {},
   "outputs": [
    {
     "name": "stdout",
     "output_type": "stream",
     "text": [
      "destination: Waldviertel, starting from Wilhelmsburg, Lower Austria\n",
      "duration: 3 days\n",
      "preferences: History, Gothic and Romanesque architecture, natural monuments, scenic routes, picnics in nice surroundings\n",
      "need: Flexibility for weather conditions, off-road car for overnight stay with family and big dog\n",
      "context: Family trip with 2-year-old kid and big dog, avoid long trips. Take into account, that we already have been there, so we already know the usual tourist points.\n",
      "tone: Mark Twain\n",
      "style: Engaging and clear writing style\n"
     ]
    }
   ],
   "source": [
    "# --- Step 3: Iterate, Format, and Join ---\n",
    "# Create a list of formatted strings (key: value)\n",
    "formatted_lines = []\n",
    "if details_json: # Proceed only if data_dict is not empty\n",
    "    for key, value in details_json.items():\n",
    "        # Use an f-string to format each line\n",
    "        formatted_lines.append(f\"{key}: {value}\")\n",
    "\n",
    "    # Join the lines together with newline characters\n",
    "    output_text = \"\\n\".join(formatted_lines)\n",
    "\n",
    "    # --- Step 4: Print or use the output text ---\n",
    "    print(output_text)\n",
    "\n",
    "else:\n",
    "    print(\"Could not process JSON data.\")"
   ]
  },
  {
   "cell_type": "code",
   "execution_count": null,
   "id": "c4bfeb14-feb4-4b77-b133-7d5e78d2b7c8",
   "metadata": {},
   "outputs": [],
   "source": []
  }
 ],
 "metadata": {
  "citation-manager": {
   "items": {}
  },
  "kernelspec": {
   "display_name": "Python 3.9",
   "language": "python",
   "name": "python39"
  },
  "language_info": {
   "codemirror_mode": {
    "name": "ipython",
    "version": 3
   },
   "file_extension": ".py",
   "mimetype": "text/x-python",
   "name": "python",
   "nbconvert_exporter": "python",
   "pygments_lexer": "ipython3",
   "version": "3.9.1"
  }
 },
 "nbformat": 4,
 "nbformat_minor": 5
}
