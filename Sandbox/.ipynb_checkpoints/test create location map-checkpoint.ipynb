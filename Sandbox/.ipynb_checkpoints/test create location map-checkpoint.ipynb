{
 "cells": [
  {
   "cell_type": "markdown",
   "id": "c5480158-11c8-4c3a-b021-68e7944565b0",
   "metadata": {},
   "source": [
    "https://myprojects.geoapify.com/api/AGFI69aV4JsY18BjptKH/keys\n",
    "API Key: 19070e5cdcd94baabb80cad9e9030be8\n",
    "Static Map API"
   ]
  },
  {
   "cell_type": "code",
   "execution_count": 39,
   "id": "c929ba92-c547-480d-b582-e2d4e9e461fd",
   "metadata": {},
   "outputs": [
    {
     "name": "stdout",
     "output_type": "stream",
     "text": [
      "done\n"
     ]
    }
   ],
   "source": [
    "html = \"\"\"\n",
    "<!DOCTYPE html>\n",
    "<html>\n",
    "<head>\n",
    "</head>\n",
    "<body>\n",
    "<h1>Pfarrkirche St. Martin Map</h1>\n",
    "<img src=\"https://maps.geoapify.com/v1/staticmap?style=osm-carto&width=800&height=800&center=lonlat:14.83901,48.66438&zoom=12&marker=lonlat:14.83901,48.66438;color:%23ff0000;size:medium&apiKey=19070e5cdcd94baabb80cad9e9030be8\" alt=\"Map of Pfarrkirche St. Martin\">\n",
    "</body>\n",
    "</html>\n",
    "\"\"\"\n",
    "\n",
    "with open(\"html/map-geoapify-osm-zoom12-800-800.html\", \"w\") as f:\n",
    "    f.write(html)\n",
    "print(\"done\")"
   ]
  },
  {
   "cell_type": "code",
   "execution_count": 38,
   "id": "5d28a145-0170-4bd1-8ce3-2b78d251bae6",
   "metadata": {},
   "outputs": [
    {
     "name": "stdout",
     "output_type": "stream",
     "text": [
      "done\n"
     ]
    }
   ],
   "source": [
    "html = \"\"\"\n",
    "<!DOCTYPE html>\n",
    "<html>\n",
    "<head>\n",
    "</head>\n",
    "<body>\n",
    "<h1>Pfarrkirche St. Martin Map</h1>\n",
    "<img src=\"https://maps.geoapify.com/v1/staticmap?style=osm-carto&width=800&height=800&center=lonlat:14.83901,48.66438&zoom=14&scaleBar=bottomright&scaleBarUnits=metric&marker=lonlat:14.83901,48.66438;color:%23ff0000;size:medium&apiKey=19070e5cdcd94baabb80cad9e9030be8\" alt=\"Map of Pfarrkirche St. Martin\">\n",
    "<img src=\"https://maps.geoapify.com/v1/staticmap?style=osm-carto&width=800&height=600&center=lonlat:14.83901,48.66438&zoom=17&marker=lonlat:14.83901,48.66438;color:%23ff0000;size:medium&scaleBar=bottomright&scaleBarUnits=metric&apiKey=19070e5cdcd94baabb80cad9e9030be8\" alt=\"Map of Pfarrkirche St. Martin\">\n",
    "</body>\n",
    "</html>\n",
    "\"\"\"\n",
    "\n",
    "with open(\"html/map-geoapify-osm-zoom14-800-800.html\", \"w\") as f:\n",
    "    f.write(html)\n",
    "print(\"done\")"
   ]
  },
  {
   "cell_type": "code",
   "execution_count": 36,
   "id": "7e32ef99-c2c7-4737-8f0f-462c58e88a68",
   "metadata": {},
   "outputs": [
    {
     "name": "stdout",
     "output_type": "stream",
     "text": [
      "done\n"
     ]
    }
   ],
   "source": [
    "html = \"\"\"\n",
    "<!DOCTYPE html>\n",
    "<html>\n",
    "<head>\n",
    "</head>\n",
    "<body>\n",
    "<h1>Pfarrkirche St. Martin Map</h1>\n",
    "<!-- img src=\"https://maps.geoapify.com/v1/staticmap?style=osm-carto&width=800&height=800&center=lonlat:14.83901,48.66438&zoom=18&marker=lonlat:14.83901,48.66438;color:%23ff0000;size:medium&scaleBar=bottomleft&scaleBarUnits=metric&apiKey=19070e5cdcd94baabb80cad9e9030be8\" alt=\"Map of Pfarrkirche St. Martin\" -->\n",
    "<img src=\"https://maps.geoapify.com/v1/staticmap?style=osm-carto&width=800&height=800&center=lonlat:14.83901,48.66438&zoom=18&marker=lonlat:14.83901,48.66438;color:%23ff0000;size:medium&apiKey=19070e5cdcd94baabb80cad9e9030be8\" alt=\"Map of Pfarrkirche St. Martin\">\n",
    "</body>\n",
    "</html>\n",
    "\"\"\"\n",
    "\n",
    "with open(\"html/map-geoapify-osm-zoom18-800-800.html\", \"w\") as f:\n",
    "    f.write(html)\n",
    "print(\"done\")"
   ]
  },
  {
   "cell_type": "code",
   "execution_count": 34,
   "id": "6f410b14-0092-45dd-9971-009f8eb64014",
   "metadata": {},
   "outputs": [
    {
     "name": "stdout",
     "output_type": "stream",
     "text": [
      "done\n"
     ]
    }
   ],
   "source": [
    "html = \"\"\"\n",
    "<!DOCTYPE html>\n",
    "<html>\n",
    "<head>\n",
    "</head>\n",
    "<body>\n",
    "<h1>Pfarrkirche St. Martin Map</h1>\n",
    "<img src=\"https://maps.geoapify.com/v1/staticmap?style=osm-carto&width=600&height=400&center=lonlat:14.83901,48.66438&zoom=17.5&marker=lonlat:14.83901,48.66438;color:%23ff0000;size:medium&apiKey=19070e5cdcd94baabb80cad9e9030be8\" alt=\"Map of Pfarrkirche St. Martin\">\n",
    "</body>\n",
    "</html>\n",
    "\"\"\"\n",
    "\n",
    "with open(\"html/map-geoapify-osm-zoom17-5.html\", \"w\") as f:\n",
    "    f.write(html)\n",
    "print(\"done\")"
   ]
  },
  {
   "cell_type": "code",
   "execution_count": 35,
   "id": "dd4ecb21-8bc0-4aa2-ab10-523aa5adeaba",
   "metadata": {},
   "outputs": [
    {
     "name": "stdout",
     "output_type": "stream",
     "text": [
      "done\n"
     ]
    }
   ],
   "source": [
    "html = \"\"\"\n",
    "<!DOCTYPE html>\n",
    "<html>\n",
    "<head>\n",
    "</head>\n",
    "<body>\n",
    "<h1>Pfarrkirche St. Martin Map</h1>\n",
    "<img src=\"https://maps.geoapify.com/v1/staticmap?style=osm-carto&width=800&height=800&center=lonlat:14.83901,48.66438&zoom=18&marker=lonlat:14.83901,48.66438;color:%23ff0000;size:medium&apiKey=19070e5cdcd94baabb80cad9e9030be8\" alt=\"Map of Pfarrkirche St. Martin\">\n",
    "</body>\n",
    "</html>\n",
    "\"\"\"\n",
    "\n",
    "with open(\"html/map-geoapify-osm-zoom18.html\", \"w\") as f:\n",
    "    f.write(html)\n",
    "print(\"done\")"
   ]
  },
  {
   "cell_type": "code",
   "execution_count": 32,
   "id": "6c8d64c6-e6ea-4502-824c-7cc58ff1a590",
   "metadata": {},
   "outputs": [
    {
     "name": "stdout",
     "output_type": "stream",
     "text": [
      "done\n"
     ]
    }
   ],
   "source": [
    "html = \"\"\"\n",
    "<!DOCTYPE html>\n",
    "<html>\n",
    "<head>\n",
    "</head>\n",
    "<body>\n",
    "<h1>Pfarrkirche St. Martin Map</h1>\n",
    "<img src=\"https://maps.geoapify.com/v1/staticmap?style=osm-carto&width=600&height=400&center=lonlat:14.83901,48.66438&zoom=16&marker=lonlat:14.83901,48.66438;color:%23ff0000;size:medium&apiKey=19070e5cdcd94baabb80cad9e9030be8\" alt=\"Map of Pfarrkirche St. Martin\">\n",
    "</body>\n",
    "</html>\n",
    "\"\"\"\n",
    "\n",
    "with open(\"html/map-geoapify-osm-zoom16.html\", \"w\") as f:\n",
    "    f.write(html)\n",
    "print(\"done\")"
   ]
  },
  {
   "cell_type": "code",
   "execution_count": 30,
   "id": "74fe44a6-49a6-472f-891b-230ca43ec526",
   "metadata": {},
   "outputs": [
    {
     "name": "stdout",
     "output_type": "stream",
     "text": [
      "done\n"
     ]
    }
   ],
   "source": [
    "html = \"\"\"\n",
    "<!DOCTYPE html>\n",
    "<html>\n",
    "<head>\n",
    "</head>\n",
    "<body>\n",
    "<h1>Pfarrkirche St. Martin Map</h1>\n",
    "<img src=\"https://maps.geoapify.com/v1/staticmap?style=osm-carto&width=600&height=400&center=lonlat:14.83901,48.66438&zoom=17&marker=lonlat:14.83901,48.66438;color:%23ff0000;size:medium&apiKey=19070e5cdcd94baabb80cad9e9030be8\" alt=\"Map of Pfarrkirche St. Martin\">\n",
    "</body>\n",
    "</html>\n",
    "\"\"\"\n",
    "\n",
    "with open(\"html/map-geoapify-osm-zoom17.html\", \"w\") as f:\n",
    "    f.write(html)\n",
    "print(\"done\")"
   ]
  },
  {
   "cell_type": "code",
   "execution_count": 27,
   "id": "2f1443e1-e160-43d9-bf10-de1cd67102cf",
   "metadata": {},
   "outputs": [
    {
     "name": "stdout",
     "output_type": "stream",
     "text": [
      "done\n"
     ]
    }
   ],
   "source": [
    "html = \"\"\"\n",
    "<!DOCTYPE html>\n",
    "<html>\n",
    "<head>\n",
    "</head>\n",
    "<body>\n",
    "<h1>Pfarrkirche St. Martin Map</h1>\n",
    "<img src=\"https://staticmap.openstreetmap.de/staticmap.php?center=48.66438,14.83901&zoom=18&size=600x400&markers=48.66438,14.83901,lightblue1\" alt=\"Map of Pfarrkirche St. Martin\">\n",
    "</body>\n",
    "</html>\n",
    "\"\"\"\n",
    "\n",
    "with open(\"html/map-staticmap-osm-1.html\", \"w\") as f:\n",
    "    f.write(html)\n",
    "print(\"done\")"
   ]
  },
  {
   "cell_type": "code",
   "execution_count": 23,
   "id": "16eadd3d-ed7e-4e1b-a19c-a9862ecddf1e",
   "metadata": {},
   "outputs": [
    {
     "name": "stdout",
     "output_type": "stream",
     "text": [
      "done\n"
     ]
    }
   ],
   "source": [
    "html = \"\"\"\n",
    "<!DOCTYPE html>\n",
    "<html>\n",
    "<head>\n",
    "    <title>Travel Guide</title>\n",
    "    <link rel=\"stylesheet\" href=\"https://unpkg.com/leaflet@1.9.3/dist/leaflet.css\"\n",
    "        integrity=\"sha256-kLaT2GOSpHechhsozzB+flnD+zUyjE2LlfWPgU04xyI=\"\n",
    "        crossorigin=\"\"/>\n",
    "    <script src=\"https://unpkg.com/leaflet@1.9.3/dist/leaflet.js\"\n",
    "        integrity=\"sha256-WBkoXOwTeyKclOHuWtc+i2uENFpDZ9YPdf5Hf+D7ewM=\"\n",
    "        crossorigin=\"\"></script>\n",
    "    <style>\n",
    "        #map {\n",
    "            height: 400px;\n",
    "            width: 600px;\n",
    "            border: 1px solid black;\n",
    "        }\n",
    "    </style>\n",
    "</head>\n",
    "<body>\n",
    "    <h1>Travel Guide</h1>\n",
    "    <div id=\"map\"></div>\n",
    "    <script>\n",
    "        var map = L.map('map').setView([48.66438, 14.83901], 18);\n",
    "        L.tileLayer('https://{s}.tile.openstreetmap.org/{z}/{x}/{y}.png', {\n",
    "            attribution: '&copy; <a href=\"https://www.openstreetmap.org/\">OpenStreetMap</a>',\n",
    "            subdomains: ['a', 'b', 'c']\n",
    "        }).addTo(map);\n",
    "        var marker = L.marker([48.66438, 14.83901]).addTo(map); // marker\n",
    "        L.control.scale().addTo(map); // scale bar\n",
    "    </script>\n",
    "</body>\n",
    "</html>\n",
    "\"\"\"\n",
    "\n",
    "with open(\"html/map-leaflet-1.html\", \"w\") as f:\n",
    "    f.write(html)\n",
    "print(\"done\")"
   ]
  },
  {
   "cell_type": "code",
   "execution_count": 12,
   "id": "665f82fb-45b0-4ab5-979b-8c16e2605f47",
   "metadata": {},
   "outputs": [
    {
     "name": "stdout",
     "output_type": "stream",
     "text": [
      "geocode response\n",
      "<Response [200]>\n",
      "200\n",
      "[{\"place_id\":119760805,\"licence\":\"Data © OpenStreetMap contributors, ODbL 1.0. http://osm.org/copyright\",\"osm_type\":\"way\",\"osm_id\":177850302,\"lat\":\"48.6643701\",\"lon\":\"14.8389872\",\"class\":\"amenity\",\"type\":\"place_of_worship\",\"place_rank\":30,\"importance\":4.547417410539433e-05,\"addresstype\":\"amenity\",\"name\":\"\",\"display_name\":\"L8294, Zeil, St. Martin, Bezirk Gmünd, Niederösterreich, 3971, Österreich\",\"boundingbox\":[\"48.6642789\",\"48.6645009\",\"14.8387979\",\"14.8392307\"]}]\n",
      "coordinates\n",
      "('48.6643701', '14.8389872')\n",
      "done\n"
     ]
    }
   ],
   "source": [
    "import requests\n",
    "from urllib.parse import urlencode\n",
    "\n",
    "# Geocode the POI\n",
    "def geocode_poi(poi_name):\n",
    "    url = \"https://nominatim.openstreetmap.org/search\"\n",
    "    params = {\n",
    "        \"q\": poi_name,\n",
    "        \"format\": \"json\",\n",
    "        \"limit\": 1\n",
    "    }\n",
    "    headers = {\n",
    "        \"User-Agent\": \"Meta Llama 3 Travel Guide\"\n",
    "    }\n",
    "    response = requests.get(url, params=params, headers=headers)\n",
    "    print(\"geocode response\")\n",
    "    print(response)\n",
    "    print(response.status_code)\n",
    "    print(response.text)\n",
    "\n",
    "    if response.status_code == 200:\n",
    "        try:\n",
    "            data = response.json()\n",
    "            if data:\n",
    "                return data[0][\"lat\"], data[0][\"lon\"]\n",
    "        except requests.exceptions.JSONDecodeError:\n",
    "            print(\"Failed to parse JSON response\")\n",
    "    else:\n",
    "        print(f\"Request failed with status code {response.status_code}\")\n",
    "    return None\n",
    "\n",
    "# Generate the map image\n",
    "def generate_map_image(lat, lon):\n",
    "    url = \"https://staticmap.openstreetmap.de/staticmap.php\"\n",
    "    params = {\n",
    "        \"center\": f\"{lat},{lon}\",\n",
    "        \"zoom\": 15,\n",
    "        \"size\": \"400x400\",\n",
    "        \"maptype\": \"mapnik\",\n",
    "        \"markers\": f\"{lat},{lon},red\"\n",
    "    }\n",
    "    return f\"{url}?{urlencode(params)}\"\n",
    "\n",
    "# Generate the HTML travel guide\n",
    "def generate_travel_guide(poi_name):\n",
    "    coordinates = geocode_poi(poi_name)\n",
    "    print(\"coordinates\")\n",
    "    print(coordinates)\n",
    "    if coordinates:\n",
    "        lat, lon = coordinates\n",
    "        map_image_url = generate_map_image(lat, lon)\n",
    "        html = f\"\"\"\n",
    "        <html>\n",
    "        <body>\n",
    "        <h1>{poi_name}</h1>\n",
    "        <img src=\"{map_image_url}\" alt=\"Map of {poi_name}\">\n",
    "        </body>\n",
    "        </html>\n",
    "        \"\"\"\n",
    "        return html\n",
    "    else:\n",
    "        return None\n",
    "\n",
    "#poi_name = \"Pfarrkirche St. Martin im Waldviertel\"\n",
    "poi_name = \"48.66438, 14.83901\"\n",
    "travel_guide_html = generate_travel_guide(poi_name)\n",
    "if travel_guide_html:\n",
    "    with open(\"travel_guide.html\", \"w\") as f:\n",
    "        f.write(travel_guide_html)\n",
    "print(\"done\")"
   ]
  }
 ],
 "metadata": {
  "kernelspec": {
   "display_name": "Python 3.9",
   "language": "python",
   "name": "python39"
  },
  "language_info": {
   "codemirror_mode": {
    "name": "ipython",
    "version": 3
   },
   "file_extension": ".py",
   "mimetype": "text/x-python",
   "name": "python",
   "nbconvert_exporter": "python",
   "pygments_lexer": "ipython3",
   "version": "3.9.1"
  }
 },
 "nbformat": 4,
 "nbformat_minor": 5
}
