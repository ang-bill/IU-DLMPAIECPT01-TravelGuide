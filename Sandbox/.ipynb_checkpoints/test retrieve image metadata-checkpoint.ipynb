{
 "cells": [
  {
   "cell_type": "code",
   "execution_count": 3,
   "id": "fcdc5863-91d9-4b22-9b38-afd98ba1e54e",
   "metadata": {},
   "outputs": [
    {
     "name": "stdout",
     "output_type": "stream",
     "text": [
      "{'batchcomplete': '', 'query': {'normalized': [{'from': 'File:Kath._Pfarrkirche_hl._Martin_in_Sankt_Martin_-_Altar.jpg', 'to': 'File:Kath. Pfarrkirche hl. Martin in Sankt Martin - Altar.jpg'}], 'pages': {'20446265': {'pageid': 20446265, 'ns': 6, 'title': 'File:Kath. Pfarrkirche hl. Martin in Sankt Martin - Altar.jpg', 'imagerepository': 'local', 'imageinfo': [{'url': 'https://upload.wikimedia.org/wikipedia/commons/8/89/Kath._Pfarrkirche_hl._Martin_in_Sankt_Martin_-_Altar.jpg', 'descriptionurl': 'https://commons.wikimedia.org/wiki/File:Kath._Pfarrkirche_hl._Martin_in_Sankt_Martin_-_Altar.jpg', 'descriptionshorturl': 'https://commons.wikimedia.org/w/index.php?curid=20446265', 'extmetadata': {'DateTime': {'value': '2012-07-28 18:46:54', 'source': 'mediawiki-metadata', 'hidden': ''}, 'ObjectName': {'value': 'Kath. Pfarrkirche hl. Martin in Sankt Martin - Altar', 'source': 'mediawiki-metadata'}, 'CommonsMetadataExtension': {'value': 1.2, 'source': 'extension', 'hidden': ''}, 'Categories': {'value': 'Baroque altars in Lower Austria|Files with coordinates missing SDC location of creation|Pfarrkirche St. Martin (Niederösterreich)|Self-published work', 'source': 'commons-categories', 'hidden': ''}, 'Assessments': {'value': '', 'source': 'commons-categories', 'hidden': ''}, 'GPSLatitude': {'value': '48.664409', 'source': 'commons-desc-page'}, 'GPSLongitude': {'value': '14.839077', 'source': 'commons-desc-page'}, 'GPSMapDatum': {'value': 'WGS-84', 'source': 'commons-desc-page', 'hidden': ''}, 'ImageDescription': {'value': 'Kath. Pfarrkirche hl. Martin in Sankt Martin - Altar', 'source': 'commons-desc-page'}, 'DateTimeOriginal': {'value': '2012-07-28', 'source': 'commons-desc-page'}, 'Credit': {'value': '<span class=\"int-own-work\" lang=\"en\">Own work</span>', 'source': 'commons-desc-page'}, 'Artist': {'value': '<a href=\"//commons.wikimedia.org/wiki/User:Duke_of_W4\" title=\"User:Duke of W4\">Duke of W4</a>', 'source': 'commons-desc-page'}, 'LicenseShortName': {'value': 'CC BY-SA 3.0', 'source': 'commons-desc-page', 'hidden': ''}, 'UsageTerms': {'value': 'Creative Commons Attribution-Share Alike 3.0', 'source': 'commons-desc-page'}, 'AttributionRequired': {'value': 'true', 'source': 'commons-desc-page', 'hidden': ''}, 'LicenseUrl': {'value': 'https://creativecommons.org/licenses/by-sa/3.0', 'source': 'commons-desc-page'}, 'Copyrighted': {'value': 'True', 'source': 'commons-desc-page', 'hidden': ''}, 'Restrictions': {'value': '', 'source': 'commons-desc-page', 'hidden': ''}, 'License': {'value': 'cc-by-sa-3.0', 'source': 'commons-templates', 'hidden': ''}}}]}}}}\n",
      "Direct image URL: https://upload.wikimedia.org/wikipedia/commons/8/89/Kath._Pfarrkirche_hl._Martin_in_Sankt_Martin_-_Altar.jpg\n",
      "APA citation: Duke of W4. (2012). *Kath. Pfarrkirche hl. Martin in Sankt Martin - Altar* [Photograph]. Wikimedia Commons. https://upload.wikimedia.org/wikipedia/commons/8/89/Kath._Pfarrkirche_hl._Martin_in_Sankt_Martin_-_Altar.jpg\n"
     ]
    }
   ],
   "source": [
    "import requests\n",
    "import urllib.parse\n",
    "\n",
    "# Your Wikimedia file title (extracted from URL)\n",
    "filename = \"Kath._Pfarrkirche_hl._Martin_in_Sankt_Martin_-_Altar.jpg\"\n",
    "\n",
    "# Query Wikimedia API\n",
    "api_url = \"https://commons.wikimedia.org/w/api.php\"\n",
    "params = {\n",
    "    'action': 'query',\n",
    "    'titles': f'File:{filename}',\n",
    "    'prop': 'imageinfo',\n",
    "    'iiprop': 'url|extmetadata',\n",
    "    'format': 'json'\n",
    "}\n",
    "\n",
    "response = requests.get(api_url, params=params)\n",
    "data = response.json()\n",
    "\n",
    "print(data)\n",
    "\n",
    "# Extract info\n",
    "pages = data['query']['pages']\n",
    "page = next(iter(pages.values()))\n",
    "imageinfo = page['imageinfo'][0]\n",
    "img_url = imageinfo['url']\n",
    "metadata = imageinfo['extmetadata']\n",
    "\n",
    "# Extract citation fields\n",
    "title = metadata.get('ObjectName', {}).get('value') or filename.replace('_', ' ')\n",
    "author = metadata.get('Artist', {}).get('value', 'Wikimedia Commons user').strip()\n",
    "date = metadata.get('DateTimeOriginal', {}).get('value', '')\n",
    "description = metadata.get('ImageDescription', {}).get('value', '')\n",
    "\n",
    "# Extract year if possible\n",
    "import re\n",
    "year_match = re.search(r'(\\d{4})', date)\n",
    "year = year_match.group(1) if year_match else 'n.d.'\n",
    "\n",
    "# Clean author if it's HTML\n",
    "from bs4 import BeautifulSoup\n",
    "author_clean = BeautifulSoup(author, 'html.parser').get_text()\n",
    "\n",
    "# Build APA citation\n",
    "citation = f\"{author_clean}. ({year}). *{title}* [Photograph]. Wikimedia Commons. {img_url}\"\n",
    "\n",
    "# Output\n",
    "print(\"Direct image URL:\", img_url)\n",
    "print(\"APA citation:\", citation)\n"
   ]
  }
 ],
 "metadata": {
  "kernelspec": {
   "display_name": "Python 3.13",
   "language": "python",
   "name": "python313"
  },
  "language_info": {
   "codemirror_mode": {
    "name": "ipython",
    "version": 3
   },
   "file_extension": ".py",
   "mimetype": "text/x-python",
   "name": "python",
   "nbconvert_exporter": "python",
   "pygments_lexer": "ipython3",
   "version": "3.13.3"
  }
 },
 "nbformat": 4,
 "nbformat_minor": 5
}
