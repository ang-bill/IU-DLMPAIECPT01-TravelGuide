{
 "cells": [
  {
   "cell_type": "markdown",
   "id": "a4cf6bbb-5039-442b-b740-44ad2fc173ec",
   "metadata": {},
   "source": [
    "## read input"
   ]
  },
  {
   "cell_type": "code",
   "execution_count": 1,
   "id": "435e6c4c-6728-4f2d-ab8c-b7734710ecfd",
   "metadata": {},
   "outputs": [
    {
     "name": "stdout",
     "output_type": "stream",
     "text": [
      "{'destination': 'Waldviertel, starting from Wilhelmsburg, Lower Austria', 'duration': '3 days', 'preferences': 'History, Gothic and Romanesque architecture, natural monuments, scenic routes, picnics in nice surroundings', 'need': 'Flexibility for weather conditions, off-road car for overnight stay with family and big dog', 'context': 'Family trip with 2-year-old kid and big dog, avoid long trips', 'tone': 'Mark Twain', 'style': 'Engaging and clear writing style'}\n"
     ]
    }
   ],
   "source": [
    "import json\n",
    "\n",
    "def read_json_file(file_path):\n",
    "    try:\n",
    "        with open(file_path, 'r') as file:\n",
    "            data = json.load(file)\n",
    "            return data\n",
    "    except FileNotFoundError:\n",
    "        print(f\"File {file_path} not found.\")\n",
    "        return None\n",
    "    except json.JSONDecodeError:\n",
    "        print(f\"Failed to parse JSON in file {file_path}.\")\n",
    "        return None\n",
    "\n",
    "\n",
    "# Read the JSON file\n",
    "file_path = '../prompt/prompt-itinerary-01.json'\n",
    "data = read_json_file(file_path)\n",
    "\n",
    "# Print the data\n",
    "if data:\n",
    "    print(data)"
   ]
  },
  {
   "cell_type": "markdown",
   "id": "51ebab1f-8b91-4081-b225-98462687f4d7",
   "metadata": {},
   "source": [
    "## query LLM - Google - Gemini"
   ]
  },
  {
   "cell_type": "code",
   "execution_count": 2,
   "id": "22ff0de8-ed8a-4842-8d2b-e16ec1d7abcd",
   "metadata": {},
   "outputs": [],
   "source": [
    "# Set API key\n",
    "my_api_key = 'XXX'\n"
   ]
  },
  {
   "cell_type": "code",
   "execution_count": 3,
   "id": "46461bb7-8ed4-4878-83e7-9e4e54249fff",
   "metadata": {},
   "outputs": [
    {
     "name": "stdout",
     "output_type": "stream",
     "text": [
      "AI learns patterns from data to make predictions or decisions.\n",
      "\n"
     ]
    }
   ],
   "source": [
    "from google import genai\n",
    "\n",
    "try:\n",
    "    client = genai.Client(api_key=my_api_key)\n",
    "    \n",
    "    # Choose a model (e.g., gemini-1.5-flash)\n",
    "    # Check the documentation for available models: https://ai.google.dev/gemini-api/docs/models\n",
    "    response = client.models.generate_content(\n",
    "        model=\"gemini-2.0-flash\",\n",
    "        contents=\"Explain how AI works in a few words\",\n",
    "    )\n",
    "    \n",
    "    print(response.text)\n",
    "except ValueError as e:\n",
    "    print(f\"Error: {e}\")\n",
    "except Exception as e:\n",
    "    print(f\"An unexpected error occurred: {e}\")"
   ]
  }
 ],
 "metadata": {
  "citation-manager": {
   "items": {}
  },
  "kernelspec": {
   "display_name": "Python 3.9",
   "language": "python",
   "name": "python39"
  },
  "language_info": {
   "codemirror_mode": {
    "name": "ipython",
    "version": 3
   },
   "file_extension": ".py",
   "mimetype": "text/x-python",
   "name": "python",
   "nbconvert_exporter": "python",
   "pygments_lexer": "ipython3",
   "version": "3.9.1"
  }
 },
 "nbformat": 4,
 "nbformat_minor": 5
}
