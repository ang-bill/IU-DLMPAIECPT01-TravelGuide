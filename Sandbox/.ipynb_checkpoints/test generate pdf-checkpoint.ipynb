{
 "cells": [
  {
   "cell_type": "code",
   "execution_count": 4,
   "id": "e33ca012-2dab-48d3-8646-ce55687856f3",
   "metadata": {},
   "outputs": [
    {
     "name": "stdout",
     "output_type": "stream",
     "text": [
      "✅ HTML generated: poi_pfarrkirche.html\n"
     ]
    }
   ],
   "source": [
    "from jinja2 import Environment, FileSystemLoader\n",
    "import weasyprint\n",
    "\n",
    "# Example POI data (replace dynamically with your output)\n",
    "poi_data = {\n",
    "    'poi_name': 'Pfarrkirche St. Martin im Waldviertel',\n",
    "    'location_link': 'https://goo.gl/maps/xyz',\n",
    "    'poi_type': 'Historic Church',\n",
    "    'gps': '48.66438, 14.83901',\n",
    "    'duration': '30–45 min',\n",
    "    'kid_dog_friendly': '✔️ Yes',\n",
    "    'picnic_spots': 'Churchyard benches',\n",
    "    'images': ['pfarrkirche1.jpg', 'pfarrkirche2.jpg', 'pfarrkirche3.jpg'],\n",
    "    'description': \"\"\"Standing firm on its rocky perch for nearly 900 years, Pfarrkirche St. Martin is less a building and more a chronicle written in stone. Originally a Romanesque choir tower church...\"\"\",\n",
    "    'did_you_know': [\n",
    "        'The church’s tower once had a steep spandrel roof typical of Romanesque design.',\n",
    "        'It was likely founded by Hadmar II of Kuenring in 1217.'\n",
    "    ],\n",
    "    'riddles': [\n",
    "        'Find the Romanesque twin window — how many openings remain unsealed?',\n",
    "        'Which saint flanks St. Martin at the altar on the left side?'\n",
    "    ],\n",
    "    'parking': 'Free on-street',\n",
    "    'wc': 'In nearby community center (100m)',\n",
    "    'best_time': 'Morning, for sunlit façade',\n",
    "    'accessibility': 'Steps at entrance (no ramp)',\n",
    "    'map_image': 'map_pfarrkirche.png'\n",
    "}\n",
    "\n",
    "# Render template\n",
    "env = Environment(loader=FileSystemLoader('.'))\n",
    "template = env.get_template('/template/poi_template.html')\n",
    "html_out = template.render(**poi_data)\n",
    "\n",
    "# Write HTML to file (optional)\n",
    "#with open('poi_pfarrkirche.html', 'w', encoding='utf-8') as f:\n",
    "#    f.write(html_out)\n",
    "\n",
    "print(\"✅ HTML generated: poi_pfarrkirche.html\")\n"
   ]
  },
  {
   "cell_type": "code",
   "execution_count": null,
   "id": "93b123aa-35f0-4583-9ccb-d0a0266bcfa1",
   "metadata": {},
   "outputs": [],
   "source": [
    "# Generate PDF\n",
    "weasyprint.HTML(string=html_out).write_pdf('poi_pfarrkirche.pdf')\n",
    "\n",
    "print(\"✅ PDF generated: poi_pfarrkirche.pdf\")"
   ]
  },
  {
   "cell_type": "code",
   "execution_count": 2,
   "id": "fda6a46b-8edf-4394-9e7c-a6f6a8e9380d",
   "metadata": {},
   "outputs": [
    {
     "ename": "AttributeError",
     "evalue": "module 'weasyprint' has no attribute 'fonts'",
     "output_type": "error",
     "traceback": [
      "\u001b[1;31m---------------------------------------------------------------------------\u001b[0m",
      "\u001b[1;31mAttributeError\u001b[0m                            Traceback (most recent call last)",
      "Cell \u001b[1;32mIn[2], line 13\u001b[0m\n\u001b[0;32m      9\u001b[0m     f\u001b[38;5;241m.\u001b[39mwrite(html)\n\u001b[0;32m     11\u001b[0m \u001b[38;5;66;03m# Generate the PDF from the HTML file\u001b[39;00m\n\u001b[0;32m     12\u001b[0m \u001b[38;5;66;03m#weasyprint.HTML('temp.html').write_pdf('hello.pdf')\u001b[39;00m\n\u001b[1;32m---> 13\u001b[0m weasyprint\u001b[38;5;241m.\u001b[39mHTML(\u001b[38;5;124m'\u001b[39m\u001b[38;5;124mtemp.html\u001b[39m\u001b[38;5;124m'\u001b[39m)\u001b[38;5;241m.\u001b[39mwrite_pdf(\u001b[38;5;124m'\u001b[39m\u001b[38;5;124mhello.pdf\u001b[39m\u001b[38;5;124m'\u001b[39m, font_config\u001b[38;5;241m=\u001b[39m\u001b[43mweasyprint\u001b[49m\u001b[38;5;241;43m.\u001b[39;49m\u001b[43mfonts\u001b[49m\u001b[38;5;241m.\u001b[39mFontConfiguration())\n\u001b[0;32m     15\u001b[0m \u001b[38;5;66;03m# Delete the temporary HTML file\u001b[39;00m\n\u001b[0;32m     16\u001b[0m os\u001b[38;5;241m.\u001b[39mremove(\u001b[38;5;124m'\u001b[39m\u001b[38;5;124mtemp.html\u001b[39m\u001b[38;5;124m'\u001b[39m)\n",
      "\u001b[1;31mAttributeError\u001b[0m: module 'weasyprint' has no attribute 'fonts'"
     ]
    }
   ],
   "source": [
    "import weasyprint\n",
    "import os\n",
    "\n",
    "# Define the HTML content\n",
    "html = '<html><body><h1>Hello, World!</h1></body></html>'\n",
    "\n",
    "# Write the HTML content to a file\n",
    "with open('temp.html', 'w') as f:\n",
    "    f.write(html)\n",
    "\n",
    "# Generate the PDF from the HTML file\n",
    "weasyprint.HTML('temp.html').write_pdf('hello.pdf')\n",
    "#weasyprint.HTML('temp.html').write_pdf('hello.pdf', font_config=weasyprint.fonts.FontConfiguration())\n",
    "\n",
    "# Delete the temporary HTML file\n",
    "os.remove('temp.html')"
   ]
  },
  {
   "cell_type": "code",
   "execution_count": null,
   "id": "77a4a44b-72f5-476d-8d29-773419576f85",
   "metadata": {},
   "outputs": [],
   "source": [
    "from weasyprint import HTML\n",
    "\n",
    "# Define simple HTML content\n",
    "html_content = \"\"\"\n",
    "<!DOCTYPE html>\n",
    "<html>\n",
    "<head>\n",
    "    <title>Hello PDF</title>\n",
    "    <style>\n",
    "        body { font-family: sans-serif; padding: 2em; }\n",
    "        h1 { color: navy; }\n",
    "    </style>\n",
    "</head>\n",
    "<body>\n",
    "    <h1>Hello, World!</h1>\n",
    "    <p>This PDF was generated with <strong>WeasyPrint</strong> in Python.</p>\n",
    "</body>\n",
    "</html>\n",
    "\"\"\"\n",
    "\n",
    "# Generate the PDF and save it\n",
    "HTML(string=html_content).write_pdf(\"hello_world.pdf\")\n",
    "\n",
    "print(\"PDF generated: hello_world.pdf\")\n"
   ]
  },
  {
   "cell_type": "code",
   "execution_count": null,
   "id": "83fe5462-c73c-415c-b41c-6370e7aca862",
   "metadata": {},
   "outputs": [],
   "source": [
    "import os\n",
    "os.environ['WEASYPRINT_DISABLE_CACHE'] = '1'\n",
    "\n",
    "# Define simple HTML content\n",
    "html_content = \"\"\"\n",
    "<!DOCTYPE html>\n",
    "<html>\n",
    "<head>\n",
    "    <title>Hello PDF</title>\n",
    "    <style>\n",
    "        body { font-family: sans-serif; padding: 2em; }\n",
    "        h1 { color: navy; }\n",
    "    </style>\n",
    "</head>\n",
    "<body>\n",
    "    <h1>Hello, World!</h1>\n",
    "    <p>This PDF was generated with <strong>WeasyPrint</strong> in Python.</p>\n",
    "</body>\n",
    "</html>\n",
    "\"\"\"\n",
    "\n",
    "# Generate the PDF and save it\n",
    "HTML(string=html_content).write_pdf(\"hello_world.pdf\")\n",
    "\n",
    "print(\"PDF generated: hello_world.pdf\")\n"
   ]
  },
  {
   "cell_type": "code",
   "execution_count": 2,
   "id": "d1627593-2f04-488a-810d-d8f6bfa70426",
   "metadata": {},
   "outputs": [
    {
     "ename": "OSError",
     "evalue": "[WinError 123] Die Syntax für den Dateinamen, Verzeichnisnamen oder die Datenträgerbezeichnung ist falsch: '<html><body><h1>Hello, World!<\\\\h1><\\\\body><\\\\html>'",
     "output_type": "error",
     "traceback": [
      "\u001b[1;31m---------------------------------------------------------------------------\u001b[0m",
      "\u001b[1;31mOSError\u001b[0m                                   Traceback (most recent call last)",
      "Cell \u001b[1;32mIn[2], line 6\u001b[0m\n\u001b[0;32m      3\u001b[0m \u001b[38;5;28;01mimport\u001b[39;00m \u001b[38;5;21;01mweasyprint\u001b[39;00m\n\u001b[0;32m      5\u001b[0m html \u001b[38;5;241m=\u001b[39m \u001b[38;5;124m'\u001b[39m\u001b[38;5;124m<html><body><h1>Hello, World!</h1></body></html>\u001b[39m\u001b[38;5;124m'\u001b[39m\n\u001b[1;32m----> 6\u001b[0m \u001b[43mweasyprint\u001b[49m\u001b[38;5;241;43m.\u001b[39;49m\u001b[43mHTML\u001b[49m\u001b[43m(\u001b[49m\u001b[43mstring\u001b[49m\u001b[38;5;241;43m=\u001b[39;49m\u001b[43mhtml\u001b[49m\u001b[43m)\u001b[49m\u001b[38;5;241m.\u001b[39mwrite_pdf(\u001b[38;5;124m'\u001b[39m\u001b[38;5;124mhello.pdf\u001b[39m\u001b[38;5;124m'\u001b[39m, font_config\u001b[38;5;241m=\u001b[39mweasyprint\u001b[38;5;241m.\u001b[39mfonts\u001b[38;5;241m.\u001b[39mFontConfiguration())\n",
      "File \u001b[1;32mC:\\Program Files\\Python39\\lib\\site-packages\\weasyprint\\__init__.py:172\u001b[0m, in \u001b[0;36mHTML.__init__\u001b[1;34m(self, guess, filename, url, file_obj, string, encoding, base_url, url_fetcher, media_type)\u001b[0m\n\u001b[0;32m    170\u001b[0m \u001b[38;5;28;01mwith\u001b[39;00m result \u001b[38;5;28;01mas\u001b[39;00m (source_type, source, base_url, protocol_encoding):\n\u001b[0;32m    171\u001b[0m     \u001b[38;5;28;01mif\u001b[39;00m \u001b[38;5;28misinstance\u001b[39m(source, \u001b[38;5;28mstr\u001b[39m):\n\u001b[1;32m--> 172\u001b[0m         result \u001b[38;5;241m=\u001b[39m \u001b[43mtinyhtml5\u001b[49m\u001b[38;5;241;43m.\u001b[39;49m\u001b[43mparse\u001b[49m\u001b[43m(\u001b[49m\u001b[43msource\u001b[49m\u001b[43m,\u001b[49m\u001b[43m \u001b[49m\u001b[43mnamespace_html_elements\u001b[49m\u001b[38;5;241;43m=\u001b[39;49m\u001b[38;5;28;43;01mFalse\u001b[39;49;00m\u001b[43m)\u001b[49m\n\u001b[0;32m    173\u001b[0m     \u001b[38;5;28;01melse\u001b[39;00m:\n\u001b[0;32m    174\u001b[0m         kwargs \u001b[38;5;241m=\u001b[39m {\u001b[38;5;124m'\u001b[39m\u001b[38;5;124mnamespace_html_elements\u001b[39m\u001b[38;5;124m'\u001b[39m: \u001b[38;5;28;01mFalse\u001b[39;00m}\n",
      "File \u001b[1;32mC:\\Program Files\\Python39\\lib\\site-packages\\tinyhtml5\\parser.py:56\u001b[0m, in \u001b[0;36mparse\u001b[1;34m(document, namespace_html_elements, **kwargs)\u001b[0m\n\u001b[0;32m     22\u001b[0m \u001b[38;5;28;01mdef\u001b[39;00m \u001b[38;5;21mparse\u001b[39m(document, namespace_html_elements\u001b[38;5;241m=\u001b[39m\u001b[38;5;28;01mTrue\u001b[39;00m, \u001b[38;5;241m*\u001b[39m\u001b[38;5;241m*\u001b[39mkwargs):\n\u001b[0;32m     23\u001b[0m \u001b[38;5;250m    \u001b[39m\u001b[38;5;124;03m\"\"\"Parse an HTML document into a tree.\u001b[39;00m\n\u001b[0;32m     24\u001b[0m \n\u001b[0;32m     25\u001b[0m \u001b[38;5;124;03m    :param document:\u001b[39;00m\n\u001b[1;32m   (...)\u001b[0m\n\u001b[0;32m     54\u001b[0m \n\u001b[0;32m     55\u001b[0m \u001b[38;5;124;03m    \"\"\"\u001b[39;00m\n\u001b[1;32m---> 56\u001b[0m     \u001b[38;5;28;01mreturn\u001b[39;00m HTMLParser(namespace_html_elements)\u001b[38;5;241m.\u001b[39mparse(document, \u001b[38;5;241m*\u001b[39m\u001b[38;5;241m*\u001b[39mkwargs)\n",
      "File \u001b[1;32mC:\\Program Files\\Python39\\lib\\site-packages\\tinyhtml5\\parser.py:203\u001b[0m, in \u001b[0;36mHTMLParser.parse\u001b[1;34m(self, stream, full_tree, **kwargs)\u001b[0m\n\u001b[0;32m    197\u001b[0m \u001b[38;5;28;01mdef\u001b[39;00m \u001b[38;5;21mparse\u001b[39m(\u001b[38;5;28mself\u001b[39m, stream, full_tree\u001b[38;5;241m=\u001b[39m\u001b[38;5;28;01mFalse\u001b[39;00m, \u001b[38;5;241m*\u001b[39m\u001b[38;5;241m*\u001b[39mkwargs):\n\u001b[0;32m    198\u001b[0m \u001b[38;5;250m    \u001b[39m\u001b[38;5;124;03m\"\"\"Parse a HTML document into a well-formed tree.\u001b[39;00m\n\u001b[0;32m    199\u001b[0m \n\u001b[0;32m    200\u001b[0m \u001b[38;5;124;03m    If ``full_tree`` is ``True``, return the whole tree.\u001b[39;00m\n\u001b[0;32m    201\u001b[0m \n\u001b[0;32m    202\u001b[0m \u001b[38;5;124;03m    \"\"\"\u001b[39;00m\n\u001b[1;32m--> 203\u001b[0m     \u001b[38;5;28mself\u001b[39m\u001b[38;5;241m.\u001b[39m_parse(stream, \u001b[38;5;241m*\u001b[39m\u001b[38;5;241m*\u001b[39mkwargs)\n\u001b[0;32m    204\u001b[0m     \u001b[38;5;28;01mreturn\u001b[39;00m \u001b[38;5;28mself\u001b[39m\u001b[38;5;241m.\u001b[39mtree\u001b[38;5;241m.\u001b[39mget_document(full_tree)\n",
      "File \u001b[1;32mC:\\Program Files\\Python39\\lib\\site-packages\\tinyhtml5\\parser.py:74\u001b[0m, in \u001b[0;36mHTMLParser._parse\u001b[1;34m(self, stream, container, scripting, **kwargs)\u001b[0m\n\u001b[0;32m     72\u001b[0m \u001b[38;5;28mself\u001b[39m\u001b[38;5;241m.\u001b[39mcontainer \u001b[38;5;241m=\u001b[39m container\n\u001b[0;32m     73\u001b[0m \u001b[38;5;28mself\u001b[39m\u001b[38;5;241m.\u001b[39mscripting \u001b[38;5;241m=\u001b[39m scripting\n\u001b[1;32m---> 74\u001b[0m \u001b[38;5;28mself\u001b[39m\u001b[38;5;241m.\u001b[39mtokenizer \u001b[38;5;241m=\u001b[39m HTMLTokenizer(stream, parser\u001b[38;5;241m=\u001b[39m\u001b[38;5;28mself\u001b[39m, \u001b[38;5;241m*\u001b[39m\u001b[38;5;241m*\u001b[39mkwargs)\n\u001b[0;32m     75\u001b[0m \u001b[38;5;28mself\u001b[39m\u001b[38;5;241m.\u001b[39mreset()\n\u001b[0;32m     76\u001b[0m \u001b[38;5;28;01mtry\u001b[39;00m:\n",
      "File \u001b[1;32mC:\\Program Files\\Python39\\lib\\site-packages\\tinyhtml5\\tokenizer.py:42\u001b[0m, in \u001b[0;36mHTMLTokenizer.__init__\u001b[1;34m(self, stream, parser, **kwargs)\u001b[0m\n\u001b[0;32m     41\u001b[0m \u001b[38;5;28;01mdef\u001b[39;00m \u001b[38;5;21m__init__\u001b[39m(\u001b[38;5;28mself\u001b[39m, stream, parser\u001b[38;5;241m=\u001b[39m\u001b[38;5;28;01mNone\u001b[39;00m, \u001b[38;5;241m*\u001b[39m\u001b[38;5;241m*\u001b[39mkwargs):\n\u001b[1;32m---> 42\u001b[0m     \u001b[38;5;28mself\u001b[39m\u001b[38;5;241m.\u001b[39mstream \u001b[38;5;241m=\u001b[39m HTMLInputStream(stream, \u001b[38;5;241m*\u001b[39m\u001b[38;5;241m*\u001b[39mkwargs)  \u001b[38;5;66;03m# HTMLInputStream object\u001b[39;00m\n\u001b[0;32m     43\u001b[0m     \u001b[38;5;28mself\u001b[39m\u001b[38;5;241m.\u001b[39mparser \u001b[38;5;241m=\u001b[39m parser\n\u001b[0;32m     45\u001b[0m     \u001b[38;5;66;03m# Setup the initial tokenizer state\u001b[39;00m\n",
      "File \u001b[1;32mC:\\Program Files\\Python39\\lib\\site-packages\\tinyhtml5\\inputstream.py:39\u001b[0m, in \u001b[0;36mHTMLInputStream\u001b[1;34m(source, **kwargs)\u001b[0m\n\u001b[0;32m     38\u001b[0m \u001b[38;5;28;01mdef\u001b[39;00m \u001b[38;5;21mHTMLInputStream\u001b[39m(source, \u001b[38;5;241m*\u001b[39m\u001b[38;5;241m*\u001b[39mkwargs):  \u001b[38;5;66;03m# noqa: N802\u001b[39;00m\n\u001b[1;32m---> 39\u001b[0m     \u001b[38;5;28;01mif\u001b[39;00m \u001b[38;5;28misinstance\u001b[39m(source, \u001b[38;5;28mstr\u001b[39m) \u001b[38;5;129;01mand\u001b[39;00m \u001b[38;5;28mlen\u001b[39m(source) \u001b[38;5;241m<\u001b[39m \u001b[38;5;241m200\u001b[39m \u001b[38;5;129;01mand\u001b[39;00m \u001b[43mPath\u001b[49m\u001b[43m(\u001b[49m\u001b[43msource\u001b[49m\u001b[43m)\u001b[49m\u001b[38;5;241;43m.\u001b[39;49m\u001b[43mis_file\u001b[49m\u001b[43m(\u001b[49m\u001b[43m)\u001b[49m:\n\u001b[0;32m     40\u001b[0m         \u001b[38;5;28;01mreturn\u001b[39;00m HTMLUnicodeInputStream(Path(source)\u001b[38;5;241m.\u001b[39mread_text(), \u001b[38;5;241m*\u001b[39m\u001b[38;5;241m*\u001b[39mkwargs)\n\u001b[0;32m     41\u001b[0m     \u001b[38;5;28;01melif\u001b[39;00m \u001b[38;5;28misinstance\u001b[39m(source, Path):\n",
      "File \u001b[1;32mC:\\Program Files\\Python39\\lib\\pathlib.py:1439\u001b[0m, in \u001b[0;36mPath.is_file\u001b[1;34m(self)\u001b[0m\n\u001b[0;32m   1434\u001b[0m \u001b[38;5;250m\u001b[39m\u001b[38;5;124;03m\"\"\"\u001b[39;00m\n\u001b[0;32m   1435\u001b[0m \u001b[38;5;124;03mWhether this path is a regular file (also True for symlinks pointing\u001b[39;00m\n\u001b[0;32m   1436\u001b[0m \u001b[38;5;124;03mto regular files).\u001b[39;00m\n\u001b[0;32m   1437\u001b[0m \u001b[38;5;124;03m\"\"\"\u001b[39;00m\n\u001b[0;32m   1438\u001b[0m \u001b[38;5;28;01mtry\u001b[39;00m:\n\u001b[1;32m-> 1439\u001b[0m     \u001b[38;5;28;01mreturn\u001b[39;00m S_ISREG(\u001b[38;5;28;43mself\u001b[39;49m\u001b[38;5;241;43m.\u001b[39;49m\u001b[43mstat\u001b[49m\u001b[43m(\u001b[49m\u001b[43m)\u001b[49m\u001b[38;5;241m.\u001b[39mst_mode)\n\u001b[0;32m   1440\u001b[0m \u001b[38;5;28;01mexcept\u001b[39;00m \u001b[38;5;167;01mOSError\u001b[39;00m \u001b[38;5;28;01mas\u001b[39;00m e:\n\u001b[0;32m   1441\u001b[0m     \u001b[38;5;28;01mif\u001b[39;00m \u001b[38;5;129;01mnot\u001b[39;00m _ignore_error(e):\n",
      "File \u001b[1;32mC:\\Program Files\\Python39\\lib\\pathlib.py:1221\u001b[0m, in \u001b[0;36mPath.stat\u001b[1;34m(self)\u001b[0m\n\u001b[0;32m   1216\u001b[0m \u001b[38;5;28;01mdef\u001b[39;00m \u001b[38;5;21mstat\u001b[39m(\u001b[38;5;28mself\u001b[39m):\n\u001b[0;32m   1217\u001b[0m \u001b[38;5;250m    \u001b[39m\u001b[38;5;124;03m\"\"\"\u001b[39;00m\n\u001b[0;32m   1218\u001b[0m \u001b[38;5;124;03m    Return the result of the stat() system call on this path, like\u001b[39;00m\n\u001b[0;32m   1219\u001b[0m \u001b[38;5;124;03m    os.stat() does.\u001b[39;00m\n\u001b[0;32m   1220\u001b[0m \u001b[38;5;124;03m    \"\"\"\u001b[39;00m\n\u001b[1;32m-> 1221\u001b[0m     \u001b[38;5;28;01mreturn\u001b[39;00m \u001b[38;5;28;43mself\u001b[39;49m\u001b[38;5;241;43m.\u001b[39;49m\u001b[43m_accessor\u001b[49m\u001b[38;5;241;43m.\u001b[39;49m\u001b[43mstat\u001b[49m\u001b[43m(\u001b[49m\u001b[38;5;28;43mself\u001b[39;49m\u001b[43m)\u001b[49m\n",
      "\u001b[1;31mOSError\u001b[0m: [WinError 123] Die Syntax für den Dateinamen, Verzeichnisnamen oder die Datenträgerbezeichnung ist falsch: '<html><body><h1>Hello, World!<\\\\h1><\\\\body><\\\\html>'"
     ]
    }
   ],
   "source": []
  },
  {
   "cell_type": "code",
   "execution_count": 2,
   "id": "2c0ca312-c2cf-48f8-958b-bd94ab779d5f",
   "metadata": {},
   "outputs": [
    {
     "ename": "ImportError",
     "evalue": "DLL load failed while importing _rust: Die angegebene Prozedur wurde nicht gefunden.",
     "output_type": "error",
     "traceback": [
      "\u001b[1;31m---------------------------------------------------------------------------\u001b[0m",
      "\u001b[1;31mImportError\u001b[0m                               Traceback (most recent call last)",
      "Cell \u001b[1;32mIn[2], line 2\u001b[0m\n\u001b[0;32m      1\u001b[0m \u001b[38;5;28;01mfrom\u001b[39;00m \u001b[38;5;21;01mjinja2\u001b[39;00m \u001b[38;5;28;01mimport\u001b[39;00m Template\n\u001b[1;32m----> 2\u001b[0m \u001b[38;5;28;01mfrom\u001b[39;00m \u001b[38;5;21;01mxhtml2pdf\u001b[39;00m \u001b[38;5;28;01mimport\u001b[39;00m pisa\n\u001b[0;32m      3\u001b[0m \u001b[38;5;28;01mimport\u001b[39;00m \u001b[38;5;21;01mos\u001b[39;00m\n\u001b[0;32m      5\u001b[0m \u001b[38;5;66;03m# Sample data\u001b[39;00m\n",
      "File \u001b[1;32mC:\\Program Files\\Python39\\lib\\site-packages\\xhtml2pdf\\pisa.py:26\u001b[0m\n\u001b[0;32m     24\u001b[0m \u001b[38;5;28;01mfrom\u001b[39;00m \u001b[38;5;21;01mxhtml2pdf\u001b[39;00m\u001b[38;5;21;01m.\u001b[39;00m\u001b[38;5;21;01mconfig\u001b[39;00m\u001b[38;5;21;01m.\u001b[39;00m\u001b[38;5;21;01mhttpconfig\u001b[39;00m \u001b[38;5;28;01mimport\u001b[39;00m httpConfig\n\u001b[0;32m     25\u001b[0m \u001b[38;5;28;01mfrom\u001b[39;00m \u001b[38;5;21;01mxhtml2pdf\u001b[39;00m\u001b[38;5;21;01m.\u001b[39;00m\u001b[38;5;21;01mdefault\u001b[39;00m \u001b[38;5;28;01mimport\u001b[39;00m DEFAULT_CSS\n\u001b[1;32m---> 26\u001b[0m \u001b[38;5;28;01mfrom\u001b[39;00m \u001b[38;5;21;01mxhtml2pdf\u001b[39;00m\u001b[38;5;21;01m.\u001b[39;00m\u001b[38;5;21;01mdocument\u001b[39;00m \u001b[38;5;28;01mimport\u001b[39;00m pisaDocument\n\u001b[0;32m     27\u001b[0m \u001b[38;5;28;01mfrom\u001b[39;00m \u001b[38;5;21;01mxhtml2pdf\u001b[39;00m\u001b[38;5;21;01m.\u001b[39;00m\u001b[38;5;21;01mfiles\u001b[39;00m \u001b[38;5;28;01mimport\u001b[39;00m getFile\n\u001b[0;32m     29\u001b[0m log \u001b[38;5;241m=\u001b[39m logging\u001b[38;5;241m.\u001b[39mgetLogger(\u001b[38;5;18m__name__\u001b[39m)\n",
      "File \u001b[1;32mC:\\Program Files\\Python39\\lib\\site-packages\\xhtml2pdf\\document.py:23\u001b[0m\n\u001b[0;32m     20\u001b[0m \u001b[38;5;28;01mfrom\u001b[39;00m \u001b[38;5;21;01mreportlab\u001b[39;00m\u001b[38;5;21;01m.\u001b[39;00m\u001b[38;5;21;01mplatypus\u001b[39;00m\u001b[38;5;21;01m.\u001b[39;00m\u001b[38;5;21;01mflowables\u001b[39;00m \u001b[38;5;28;01mimport\u001b[39;00m Spacer\n\u001b[0;32m     21\u001b[0m \u001b[38;5;28;01mfrom\u001b[39;00m \u001b[38;5;21;01mreportlab\u001b[39;00m\u001b[38;5;21;01m.\u001b[39;00m\u001b[38;5;21;01mplatypus\u001b[39;00m\u001b[38;5;21;01m.\u001b[39;00m\u001b[38;5;21;01mframes\u001b[39;00m \u001b[38;5;28;01mimport\u001b[39;00m Frame\n\u001b[1;32m---> 23\u001b[0m \u001b[38;5;28;01mfrom\u001b[39;00m \u001b[38;5;21;01mxhtml2pdf\u001b[39;00m\u001b[38;5;21;01m.\u001b[39;00m\u001b[38;5;21;01mbuilders\u001b[39;00m\u001b[38;5;21;01m.\u001b[39;00m\u001b[38;5;21;01msigns\u001b[39;00m \u001b[38;5;28;01mimport\u001b[39;00m PDFSignature\n\u001b[0;32m     24\u001b[0m \u001b[38;5;28;01mfrom\u001b[39;00m \u001b[38;5;21;01mxhtml2pdf\u001b[39;00m\u001b[38;5;21;01m.\u001b[39;00m\u001b[38;5;21;01mbuilders\u001b[39;00m\u001b[38;5;21;01m.\u001b[39;00m\u001b[38;5;21;01mwatermarks\u001b[39;00m \u001b[38;5;28;01mimport\u001b[39;00m WaterMarks\n\u001b[0;32m     25\u001b[0m \u001b[38;5;28;01mfrom\u001b[39;00m \u001b[38;5;21;01mxhtml2pdf\u001b[39;00m\u001b[38;5;21;01m.\u001b[39;00m\u001b[38;5;21;01mcontext\u001b[39;00m \u001b[38;5;28;01mimport\u001b[39;00m pisaContext\n",
      "File \u001b[1;32mC:\\Program Files\\Python39\\lib\\site-packages\\xhtml2pdf\\builders\\signs.py:5\u001b[0m\n\u001b[0;32m      2\u001b[0m \u001b[38;5;28;01mfrom\u001b[39;00m \u001b[38;5;21;01mpathlib\u001b[39;00m \u001b[38;5;28;01mimport\u001b[39;00m Path\n\u001b[0;32m      4\u001b[0m \u001b[38;5;28;01mfrom\u001b[39;00m \u001b[38;5;21;01masn1crypto\u001b[39;00m \u001b[38;5;28;01mimport\u001b[39;00m crl, ocsp, pem, x509\n\u001b[1;32m----> 5\u001b[0m \u001b[38;5;28;01mfrom\u001b[39;00m \u001b[38;5;21;01mpyhanko\u001b[39;00m\u001b[38;5;21;01m.\u001b[39;00m\u001b[38;5;21;01mpdf_utils\u001b[39;00m\u001b[38;5;21;01m.\u001b[39;00m\u001b[38;5;21;01mincremental_writer\u001b[39;00m \u001b[38;5;28;01mimport\u001b[39;00m IncrementalPdfFileWriter\n\u001b[0;32m      6\u001b[0m \u001b[38;5;28;01mfrom\u001b[39;00m \u001b[38;5;21;01mpyhanko\u001b[39;00m\u001b[38;5;21;01m.\u001b[39;00m\u001b[38;5;21;01msign\u001b[39;00m \u001b[38;5;28;01mimport\u001b[39;00m signers, timestamps\n\u001b[0;32m      7\u001b[0m \u001b[38;5;28;01mfrom\u001b[39;00m \u001b[38;5;21;01mpyhanko\u001b[39;00m\u001b[38;5;21;01m.\u001b[39;00m\u001b[38;5;21;01msign\u001b[39;00m\u001b[38;5;21;01m.\u001b[39;00m\u001b[38;5;21;01mfields\u001b[39;00m \u001b[38;5;28;01mimport\u001b[39;00m SigSeedSubFilter\n",
      "File \u001b[1;32mC:\\Program Files\\Python39\\lib\\site-packages\\pyhanko\\pdf_utils\\incremental_writer.py:8\u001b[0m\n\u001b[0;32m      5\u001b[0m \u001b[38;5;28;01mimport\u001b[39;00m \u001b[38;5;21;01mos\u001b[39;00m\n\u001b[0;32m      6\u001b[0m \u001b[38;5;28;01mfrom\u001b[39;00m \u001b[38;5;21;01mtyping\u001b[39;00m \u001b[38;5;28;01mimport\u001b[39;00m Optional, Union\n\u001b[1;32m----> 8\u001b[0m \u001b[38;5;28;01mfrom\u001b[39;00m \u001b[38;5;21;01m.\u001b[39;00m \u001b[38;5;28;01mimport\u001b[39;00m generic, misc\n\u001b[0;32m      9\u001b[0m \u001b[38;5;28;01mfrom\u001b[39;00m \u001b[38;5;21;01m.\u001b[39;00m\u001b[38;5;21;01mcrypt\u001b[39;00m \u001b[38;5;28;01mimport\u001b[39;00m EnvelopeKeyDecrypter\n\u001b[0;32m     10\u001b[0m \u001b[38;5;28;01mfrom\u001b[39;00m \u001b[38;5;21;01m.\u001b[39;00m\u001b[38;5;21;01mgeneric\u001b[39;00m \u001b[38;5;28;01mimport\u001b[39;00m pdf_name\n",
      "File \u001b[1;32mC:\\Program Files\\Python39\\lib\\site-packages\\pyhanko\\pdf_utils\\generic.py:22\u001b[0m\n\u001b[0;32m     19\u001b[0m \u001b[38;5;28;01mfrom\u001b[39;00m \u001b[38;5;21;01mio\u001b[39;00m \u001b[38;5;28;01mimport\u001b[39;00m BytesIO\n\u001b[0;32m     20\u001b[0m \u001b[38;5;28;01mfrom\u001b[39;00m \u001b[38;5;21;01mtyping\u001b[39;00m \u001b[38;5;28;01mimport\u001b[39;00m Any, Callable, Iterator, Optional, Tuple, Union\n\u001b[1;32m---> 22\u001b[0m \u001b[38;5;28;01mfrom\u001b[39;00m \u001b[38;5;21;01m.\u001b[39;00m\u001b[38;5;21;01mmisc\u001b[39;00m \u001b[38;5;28;01mimport\u001b[39;00m (\n\u001b[0;32m     23\u001b[0m     IndirectObjectExpected,\n\u001b[0;32m     24\u001b[0m     PdfError,\n\u001b[0;32m     25\u001b[0m     PdfReadError,\n\u001b[0;32m     26\u001b[0m     PdfStreamError,\n\u001b[0;32m     27\u001b[0m     PdfStrictReadError,\n\u001b[0;32m     28\u001b[0m     PdfWriteError,\n\u001b[0;32m     29\u001b[0m     is_regular_character,\n\u001b[0;32m     30\u001b[0m     read_non_whitespace,\n\u001b[0;32m     31\u001b[0m     read_until_delimiter,\n\u001b[0;32m     32\u001b[0m     read_until_regex,\n\u001b[0;32m     33\u001b[0m     skip_over_whitespace,\n\u001b[0;32m     34\u001b[0m )\n\u001b[0;32m     36\u001b[0m \u001b[38;5;28;01mif\u001b[39;00m typing\u001b[38;5;241m.\u001b[39mTYPE_CHECKING:\n\u001b[0;32m     37\u001b[0m     \u001b[38;5;28;01mfrom\u001b[39;00m \u001b[38;5;21;01m.\u001b[39;00m\u001b[38;5;21;01mcrypt\u001b[39;00m\u001b[38;5;21;01m.\u001b[39;00m\u001b[38;5;21;01mapi\u001b[39;00m \u001b[38;5;28;01mimport\u001b[39;00m SecurityHandler\n",
      "File \u001b[1;32mC:\\Program Files\\Python39\\lib\\site-packages\\pyhanko\\pdf_utils\\misc.py:17\u001b[0m\n\u001b[0;32m     14\u001b[0m \u001b[38;5;28;01mfrom\u001b[39;00m \u001b[38;5;21;01mio\u001b[39;00m \u001b[38;5;28;01mimport\u001b[39;00m BytesIO\n\u001b[0;32m     15\u001b[0m \u001b[38;5;28;01mfrom\u001b[39;00m \u001b[38;5;21;01mtyping\u001b[39;00m \u001b[38;5;28;01mimport\u001b[39;00m Callable, Generator, Iterable, Optional, TypeVar, Union\n\u001b[1;32m---> 17\u001b[0m \u001b[38;5;28;01mfrom\u001b[39;00m \u001b[38;5;21;01mpyhanko_certvalidator\u001b[39;00m\u001b[38;5;21;01m.\u001b[39;00m\u001b[38;5;21;01mutil\u001b[39;00m \u001b[38;5;28;01mimport\u001b[39;00m CancelableAsyncIterator, ConsList\n\u001b[0;32m     19\u001b[0m __all__ \u001b[38;5;241m=\u001b[39m [\n\u001b[0;32m     20\u001b[0m     \u001b[38;5;124m'\u001b[39m\u001b[38;5;124mPdfError\u001b[39m\u001b[38;5;124m'\u001b[39m,\n\u001b[0;32m     21\u001b[0m     \u001b[38;5;124m'\u001b[39m\u001b[38;5;124mPdfReadError\u001b[39m\u001b[38;5;124m'\u001b[39m,\n\u001b[1;32m   (...)\u001b[0m\n\u001b[0;32m     49\u001b[0m     \u001b[38;5;124m'\u001b[39m\u001b[38;5;124mlift_iterable_async\u001b[39m\u001b[38;5;124m'\u001b[39m,\n\u001b[0;32m     50\u001b[0m ]\n\u001b[0;32m     52\u001b[0m DEFAULT_CHUNK_SIZE \u001b[38;5;241m=\u001b[39m \u001b[38;5;241m4096\u001b[39m\n",
      "File \u001b[1;32mC:\\Program Files\\Python39\\lib\\site-packages\\pyhanko_certvalidator\\__init__.py:8\u001b[0m\n\u001b[0;32m      5\u001b[0m \u001b[38;5;28;01mfrom\u001b[39;00m \u001b[38;5;21;01masn1crypto\u001b[39;00m \u001b[38;5;28;01mimport\u001b[39;00m x509\n\u001b[0;32m      7\u001b[0m \u001b[38;5;28;01mfrom\u001b[39;00m \u001b[38;5;21;01m.\u001b[39;00m\u001b[38;5;21;01m_types\u001b[39;00m \u001b[38;5;28;01mimport\u001b[39;00m type_name\n\u001b[1;32m----> 8\u001b[0m \u001b[38;5;28;01mfrom\u001b[39;00m \u001b[38;5;21;01m.\u001b[39;00m\u001b[38;5;21;01mcontext\u001b[39;00m \u001b[38;5;28;01mimport\u001b[39;00m ValidationContext\n\u001b[0;32m      9\u001b[0m \u001b[38;5;28;01mfrom\u001b[39;00m \u001b[38;5;21;01m.\u001b[39;00m\u001b[38;5;21;01merrors\u001b[39;00m \u001b[38;5;28;01mimport\u001b[39;00m InvalidCertificateError, PathBuildingError, ValidationError\n\u001b[0;32m     10\u001b[0m \u001b[38;5;28;01mfrom\u001b[39;00m \u001b[38;5;21;01m.\u001b[39;00m\u001b[38;5;21;01mpath\u001b[39;00m \u001b[38;5;28;01mimport\u001b[39;00m ValidationPath\n",
      "File \u001b[1;32mC:\\Program Files\\Python39\\lib\\site-packages\\pyhanko_certvalidator\\context.py:13\u001b[0m\n\u001b[0;32m     11\u001b[0m \u001b[38;5;28;01mfrom\u001b[39;00m \u001b[38;5;21;01m.\u001b[39;00m\u001b[38;5;21;01mauthority\u001b[39;00m \u001b[38;5;28;01mimport\u001b[39;00m AuthorityWithCert, CertTrustAnchor\n\u001b[0;32m     12\u001b[0m \u001b[38;5;28;01mfrom\u001b[39;00m \u001b[38;5;21;01m.\u001b[39;00m\u001b[38;5;21;01mfetchers\u001b[39;00m \u001b[38;5;28;01mimport\u001b[39;00m FetcherBackend, Fetchers, default_fetcher_backend\n\u001b[1;32m---> 13\u001b[0m \u001b[38;5;28;01mfrom\u001b[39;00m \u001b[38;5;21;01m.\u001b[39;00m\u001b[38;5;21;01mfetchers\u001b[39;00m\u001b[38;5;21;01m.\u001b[39;00m\u001b[38;5;21;01mrequests_fetchers\u001b[39;00m \u001b[38;5;28;01mimport\u001b[39;00m RequestsFetcherBackend\n\u001b[0;32m     14\u001b[0m \u001b[38;5;28;01mfrom\u001b[39;00m \u001b[38;5;21;01m.\u001b[39;00m\u001b[38;5;21;01mltv\u001b[39;00m\u001b[38;5;21;01m.\u001b[39;00m\u001b[38;5;21;01mpoe\u001b[39;00m \u001b[38;5;28;01mimport\u001b[39;00m POEManager\n\u001b[0;32m     15\u001b[0m \u001b[38;5;28;01mfrom\u001b[39;00m \u001b[38;5;21;01m.\u001b[39;00m\u001b[38;5;21;01mltv\u001b[39;00m\u001b[38;5;21;01m.\u001b[39;00m\u001b[38;5;21;01mtypes\u001b[39;00m \u001b[38;5;28;01mimport\u001b[39;00m ValidationTimingInfo, ValidationTimingParams\n",
      "File \u001b[1;32mC:\\Program Files\\Python39\\lib\\site-packages\\pyhanko_certvalidator\\fetchers\\requests_fetchers\\__init__.py:8\u001b[0m\n\u001b[0;32m      1\u001b[0m \u001b[38;5;124;03m\"\"\"\u001b[39;00m\n\u001b[0;32m      2\u001b[0m \u001b[38;5;124;03mFetcher implementation using the ``requests`` library for backwards\u001b[39;00m\n\u001b[0;32m      3\u001b[0m \u001b[38;5;124;03mcompatibility. This fetcher backend doesn't take advantage of asyncio, but\u001b[39;00m\n\u001b[0;32m      4\u001b[0m \u001b[38;5;124;03mhas the advantage of not requiring any resource management on the caller's part.\u001b[39;00m\n\u001b[0;32m      5\u001b[0m \u001b[38;5;124;03m\"\"\"\u001b[39;00m\n\u001b[0;32m      7\u001b[0m \u001b[38;5;28;01mfrom\u001b[39;00m \u001b[38;5;21;01m.\u001b[39;00m\u001b[38;5;21;01m.\u001b[39;00m\u001b[38;5;21;01mapi\u001b[39;00m \u001b[38;5;28;01mimport\u001b[39;00m FetcherBackend, Fetchers\n\u001b[1;32m----> 8\u001b[0m \u001b[38;5;28;01mfrom\u001b[39;00m \u001b[38;5;21;01m.\u001b[39;00m\u001b[38;5;21;01mcert_fetch_client\u001b[39;00m \u001b[38;5;28;01mimport\u001b[39;00m RequestsCertificateFetcher\n\u001b[0;32m      9\u001b[0m \u001b[38;5;28;01mfrom\u001b[39;00m \u001b[38;5;21;01m.\u001b[39;00m\u001b[38;5;21;01mcrl_client\u001b[39;00m \u001b[38;5;28;01mimport\u001b[39;00m RequestsCRLFetcher\n\u001b[0;32m     10\u001b[0m \u001b[38;5;28;01mfrom\u001b[39;00m \u001b[38;5;21;01m.\u001b[39;00m\u001b[38;5;21;01mocsp_client\u001b[39;00m \u001b[38;5;28;01mimport\u001b[39;00m RequestsOCSPFetcher\n",
      "File \u001b[1;32mC:\\Program Files\\Python39\\lib\\site-packages\\pyhanko_certvalidator\\fetchers\\requests_fetchers\\cert_fetch_client.py:7\u001b[0m\n\u001b[0;32m      4\u001b[0m \u001b[38;5;28;01mimport\u001b[39;00m \u001b[38;5;21;01mrequests\u001b[39;00m\n\u001b[0;32m      5\u001b[0m \u001b[38;5;28;01mfrom\u001b[39;00m \u001b[38;5;21;01masn1crypto\u001b[39;00m \u001b[38;5;28;01mimport\u001b[39;00m cms, x509\n\u001b[1;32m----> 7\u001b[0m \u001b[38;5;28;01mfrom\u001b[39;00m \u001b[38;5;21;01m.\u001b[39;00m\u001b[38;5;21;01m.\u001b[39;00m\u001b[38;5;21;01m.\u001b[39;00m\u001b[38;5;21;01merrors\u001b[39;00m \u001b[38;5;28;01mimport\u001b[39;00m CertificateFetchError\n\u001b[0;32m      8\u001b[0m \u001b[38;5;28;01mfrom\u001b[39;00m \u001b[38;5;21;01m.\u001b[39;00m\u001b[38;5;21;01m.\u001b[39;00m\u001b[38;5;21;01mapi\u001b[39;00m \u001b[38;5;28;01mimport\u001b[39;00m CertificateFetcher\n\u001b[0;32m      9\u001b[0m \u001b[38;5;28;01mfrom\u001b[39;00m \u001b[38;5;21;01m.\u001b[39;00m\u001b[38;5;21;01m.\u001b[39;00m\u001b[38;5;21;01mcommon_utils\u001b[39;00m \u001b[38;5;28;01mimport\u001b[39;00m (\n\u001b[0;32m     10\u001b[0m     ACCEPTABLE_CERT_DER_ALIASES,\n\u001b[0;32m     11\u001b[0m     ACCEPTABLE_CERT_PEM_ALIASES,\n\u001b[1;32m   (...)\u001b[0m\n\u001b[0;32m     16\u001b[0m     unpack_cert_content,\n\u001b[0;32m     17\u001b[0m )\n",
      "File \u001b[1;32mC:\\Program Files\\Python39\\lib\\site-packages\\pyhanko_certvalidator\\errors.py:6\u001b[0m\n\u001b[0;32m      3\u001b[0m \u001b[38;5;28;01mfrom\u001b[39;00m \u001b[38;5;21;01mtyping\u001b[39;00m \u001b[38;5;28;01mimport\u001b[39;00m List, Optional, Type, TypeVar\n\u001b[0;32m      5\u001b[0m \u001b[38;5;28;01mfrom\u001b[39;00m \u001b[38;5;21;01masn1crypto\u001b[39;00m\u001b[38;5;21;01m.\u001b[39;00m\u001b[38;5;21;01mcrl\u001b[39;00m \u001b[38;5;28;01mimport\u001b[39;00m CRLReason\n\u001b[1;32m----> 6\u001b[0m \u001b[38;5;28;01mfrom\u001b[39;00m \u001b[38;5;21;01mcryptography\u001b[39;00m\u001b[38;5;21;01m.\u001b[39;00m\u001b[38;5;21;01mexceptions\u001b[39;00m \u001b[38;5;28;01mimport\u001b[39;00m InvalidSignature\n\u001b[0;32m      8\u001b[0m \u001b[38;5;28;01mfrom\u001b[39;00m \u001b[38;5;21;01mpyhanko_certvalidator\u001b[39;00m\u001b[38;5;21;01m.\u001b[39;00m\u001b[38;5;21;01m_state\u001b[39;00m \u001b[38;5;28;01mimport\u001b[39;00m ValProcState\n\u001b[0;32m      9\u001b[0m \u001b[38;5;28;01mfrom\u001b[39;00m \u001b[38;5;21;01mpyhanko_certvalidator\u001b[39;00m\u001b[38;5;21;01m.\u001b[39;00m\u001b[38;5;21;01mpath\u001b[39;00m \u001b[38;5;28;01mimport\u001b[39;00m ValidationPath\n",
      "File \u001b[1;32mC:\\Program Files\\Python39\\lib\\site-packages\\cryptography\\exceptions.py:9\u001b[0m\n\u001b[0;32m      5\u001b[0m \u001b[38;5;28;01mfrom\u001b[39;00m \u001b[38;5;21;01m__future__\u001b[39;00m \u001b[38;5;28;01mimport\u001b[39;00m annotations\n\u001b[0;32m      7\u001b[0m \u001b[38;5;28;01mimport\u001b[39;00m \u001b[38;5;21;01mtyping\u001b[39;00m\n\u001b[1;32m----> 9\u001b[0m \u001b[38;5;28;01mfrom\u001b[39;00m \u001b[38;5;21;01mcryptography\u001b[39;00m\u001b[38;5;21;01m.\u001b[39;00m\u001b[38;5;21;01mhazmat\u001b[39;00m\u001b[38;5;21;01m.\u001b[39;00m\u001b[38;5;21;01mbindings\u001b[39;00m\u001b[38;5;21;01m.\u001b[39;00m\u001b[38;5;21;01m_rust\u001b[39;00m \u001b[38;5;28;01mimport\u001b[39;00m exceptions \u001b[38;5;28;01mas\u001b[39;00m rust_exceptions\n\u001b[0;32m     11\u001b[0m \u001b[38;5;28;01mif\u001b[39;00m typing\u001b[38;5;241m.\u001b[39mTYPE_CHECKING:\n\u001b[0;32m     12\u001b[0m     \u001b[38;5;28;01mfrom\u001b[39;00m \u001b[38;5;21;01mcryptography\u001b[39;00m\u001b[38;5;21;01m.\u001b[39;00m\u001b[38;5;21;01mhazmat\u001b[39;00m\u001b[38;5;21;01m.\u001b[39;00m\u001b[38;5;21;01mbindings\u001b[39;00m\u001b[38;5;21;01m.\u001b[39;00m\u001b[38;5;21;01m_rust\u001b[39;00m \u001b[38;5;28;01mimport\u001b[39;00m openssl \u001b[38;5;28;01mas\u001b[39;00m rust_openssl\n",
      "\u001b[1;31mImportError\u001b[0m: DLL load failed while importing _rust: Die angegebene Prozedur wurde nicht gefunden."
     ]
    }
   ],
   "source": [
    "from jinja2 import Template\n",
    "from xhtml2pdf import pisa\n",
    "import os\n",
    "\n",
    "# Sample data\n",
    "data = {\n",
    "    \"customer_name\": \"John Doe\",\n",
    "    \"invoice_number\": \"INV001\",\n",
    "    \"date\": \"2023-03-15\",\n",
    "    \"items\": [\n",
    "        {\"name\": \"Item 1\", \"quantity\": 2, \"price\": 10.99},\n",
    "        {\"name\": \"Item 2\", \"quantity\": 1, \"price\": 5.99},\n",
    "    ]\n",
    "}\n",
    "\n",
    "# Load the HTML template\n",
    "with open('test-template.html', 'r') as f:\n",
    "    template = Template(f.read())\n",
    "\n",
    "# Render the template with the data\n",
    "html = template.render(data)\n",
    "\n",
    "# Generate the PDF\n",
    "output_filename = 'invoice.pdf'\n",
    "with open(output_filename, 'wb') as output_pdf:\n",
    "    pisa.CreatePDF(html, dest=output_pdf)\n",
    "\n",
    "print(f\"PDF saved as {output_filename}\")"
   ]
  },
  {
   "cell_type": "code",
   "execution_count": 2,
   "id": "88735860-3043-47d1-96a4-fdf12e25eded",
   "metadata": {},
   "outputs": [
    {
     "data": {
      "text/plain": [
       "True"
      ]
     },
     "execution_count": 2,
     "metadata": {},
     "output_type": "execute_result"
    }
   ],
   "source": [
    "import pdfkit\n",
    "\n",
    "html = '''\n",
    "<!DOCTYPE html>\n",
    "<html>\n",
    "<head>\n",
    "    <title>PDF Example</title>\n",
    "</head>\n",
    "<body>\n",
    "    <h1>Hello, world!</h1>\n",
    "</body>\n",
    "</html>\n",
    "'''\n",
    "\n",
    "options = {\n",
    "    'page-size': 'Letter',\n",
    "    'margin-top': '0.75in',\n",
    "    'margin-right': '0.75in',\n",
    "    'margin-bottom': '0.75in',\n",
    "    'margin-left': '0.75in',\n",
    "    'encoding': \"UTF-8\",\n",
    "    'no-outline': None\n",
    "}\n",
    "\n",
    "pdfkit.from_string(html, 'example.pdf', options=options)"
   ]
  },
  {
   "cell_type": "code",
   "execution_count": 7,
   "id": "e9d8db76-9245-436d-8bde-09e2155b2b55",
   "metadata": {},
   "outputs": [
    {
     "ename": "OSError",
     "evalue": "wkhtmltopdf reported an error:\nExit with code 1 due to network error: ProtocolUnknownError\r\n",
     "output_type": "error",
     "traceback": [
      "\u001b[1;31m---------------------------------------------------------------------------\u001b[0m",
      "\u001b[1;31mOSError\u001b[0m                                   Traceback (most recent call last)",
      "Cell \u001b[1;32mIn[7], line 1\u001b[0m\n\u001b[1;32m----> 1\u001b[0m \u001b[43mpdfkit\u001b[49m\u001b[38;5;241;43m.\u001b[39;49m\u001b[43mfrom_string\u001b[49m\u001b[43m(\u001b[49m\u001b[43mhtml_out\u001b[49m\u001b[43m,\u001b[49m\u001b[43m \u001b[49m\u001b[38;5;124;43m'\u001b[39;49m\u001b[38;5;124;43mexample.pdf\u001b[39;49m\u001b[38;5;124;43m'\u001b[39;49m\u001b[43m,\u001b[49m\u001b[43m \u001b[49m\u001b[43moptions\u001b[49m\u001b[38;5;241;43m=\u001b[39;49m\u001b[43moptions\u001b[49m\u001b[43m)\u001b[49m\n",
      "File \u001b[1;32mC:\\Program Files\\Python39\\lib\\site-packages\\pdfkit\\api.py:75\u001b[0m, in \u001b[0;36mfrom_string\u001b[1;34m(input, output_path, options, toc, cover, css, configuration, cover_first, verbose)\u001b[0m\n\u001b[0;32m     56\u001b[0m \u001b[38;5;250m\u001b[39m\u001b[38;5;124;03m\"\"\"\u001b[39;00m\n\u001b[0;32m     57\u001b[0m \u001b[38;5;124;03mConvert given string or strings to PDF document\u001b[39;00m\n\u001b[0;32m     58\u001b[0m \n\u001b[1;32m   (...)\u001b[0m\n\u001b[0;32m     69\u001b[0m \u001b[38;5;124;03mReturns: True on success\u001b[39;00m\n\u001b[0;32m     70\u001b[0m \u001b[38;5;124;03m\"\"\"\u001b[39;00m\n\u001b[0;32m     72\u001b[0m r \u001b[38;5;241m=\u001b[39m PDFKit(\u001b[38;5;28minput\u001b[39m, \u001b[38;5;124m'\u001b[39m\u001b[38;5;124mstring\u001b[39m\u001b[38;5;124m'\u001b[39m, options\u001b[38;5;241m=\u001b[39moptions, toc\u001b[38;5;241m=\u001b[39mtoc, cover\u001b[38;5;241m=\u001b[39mcover, css\u001b[38;5;241m=\u001b[39mcss,\n\u001b[0;32m     73\u001b[0m            configuration\u001b[38;5;241m=\u001b[39mconfiguration, cover_first\u001b[38;5;241m=\u001b[39mcover_first, verbose\u001b[38;5;241m=\u001b[39mverbose)\n\u001b[1;32m---> 75\u001b[0m \u001b[38;5;28;01mreturn\u001b[39;00m \u001b[43mr\u001b[49m\u001b[38;5;241;43m.\u001b[39;49m\u001b[43mto_pdf\u001b[49m\u001b[43m(\u001b[49m\u001b[43moutput_path\u001b[49m\u001b[43m)\u001b[49m\n",
      "File \u001b[1;32mC:\\Program Files\\Python39\\lib\\site-packages\\pdfkit\\pdfkit.py:201\u001b[0m, in \u001b[0;36mPDFKit.to_pdf\u001b[1;34m(self, path)\u001b[0m\n\u001b[0;32m    199\u001b[0m stderr \u001b[38;5;241m=\u001b[39m stderr\u001b[38;5;241m.\u001b[39mdecode(\u001b[38;5;124m'\u001b[39m\u001b[38;5;124mutf-8\u001b[39m\u001b[38;5;124m'\u001b[39m, errors\u001b[38;5;241m=\u001b[39m\u001b[38;5;124m'\u001b[39m\u001b[38;5;124mreplace\u001b[39m\u001b[38;5;124m'\u001b[39m)\n\u001b[0;32m    200\u001b[0m exit_code \u001b[38;5;241m=\u001b[39m result\u001b[38;5;241m.\u001b[39mreturncode\n\u001b[1;32m--> 201\u001b[0m \u001b[38;5;28;43mself\u001b[39;49m\u001b[38;5;241;43m.\u001b[39;49m\u001b[43mhandle_error\u001b[49m\u001b[43m(\u001b[49m\u001b[43mexit_code\u001b[49m\u001b[43m,\u001b[49m\u001b[43m \u001b[49m\u001b[43mstderr\u001b[49m\u001b[43m)\u001b[49m\n\u001b[0;32m    203\u001b[0m \u001b[38;5;66;03m# Since wkhtmltopdf sends its output to stderr we will capture it\u001b[39;00m\n\u001b[0;32m    204\u001b[0m \u001b[38;5;66;03m# and properly send to stdout\u001b[39;00m\n\u001b[0;32m    205\u001b[0m \u001b[38;5;28;01mif\u001b[39;00m \u001b[38;5;124m'\u001b[39m\u001b[38;5;124m--quiet\u001b[39m\u001b[38;5;124m'\u001b[39m \u001b[38;5;129;01mnot\u001b[39;00m \u001b[38;5;129;01min\u001b[39;00m args:\n",
      "File \u001b[1;32mC:\\Program Files\\Python39\\lib\\site-packages\\pdfkit\\pdfkit.py:155\u001b[0m, in \u001b[0;36mPDFKit.handle_error\u001b[1;34m(exit_code, stderr)\u001b[0m\n\u001b[0;32m    149\u001b[0m     \u001b[38;5;28;01mraise\u001b[39;00m \u001b[38;5;167;01mIOError\u001b[39;00m(\u001b[38;5;124m'\u001b[39m\u001b[38;5;132;01m%s\u001b[39;00m\u001b[38;5;130;01m\\n\u001b[39;00m\u001b[38;5;124m'\u001b[39m\n\u001b[0;32m    150\u001b[0m                   \u001b[38;5;124m'\u001b[39m\u001b[38;5;124mYou will need to run wkhtmltopdf within a \u001b[39m\u001b[38;5;124m\"\u001b[39m\u001b[38;5;124mvirtual\u001b[39m\u001b[38;5;124m\"\u001b[39m\u001b[38;5;124m X server.\u001b[39m\u001b[38;5;130;01m\\n\u001b[39;00m\u001b[38;5;124m'\u001b[39m\n\u001b[0;32m    151\u001b[0m                   \u001b[38;5;124m'\u001b[39m\u001b[38;5;124mGo to the link below for more information\u001b[39m\u001b[38;5;130;01m\\n\u001b[39;00m\u001b[38;5;124m'\u001b[39m\n\u001b[0;32m    152\u001b[0m                   \u001b[38;5;124m'\u001b[39m\u001b[38;5;124mhttps://github.com/JazzCore/python-pdfkit/wiki/Using-wkhtmltopdf-without-X-server\u001b[39m\u001b[38;5;124m'\u001b[39m \u001b[38;5;241m%\u001b[39m stderr)\n\u001b[0;32m    154\u001b[0m \u001b[38;5;28;01mif\u001b[39;00m \u001b[38;5;124m'\u001b[39m\u001b[38;5;124mError\u001b[39m\u001b[38;5;124m'\u001b[39m \u001b[38;5;129;01min\u001b[39;00m stderr:\n\u001b[1;32m--> 155\u001b[0m     \u001b[38;5;28;01mraise\u001b[39;00m \u001b[38;5;167;01mIOError\u001b[39;00m(\u001b[38;5;124m'\u001b[39m\u001b[38;5;124mwkhtmltopdf reported an error:\u001b[39m\u001b[38;5;130;01m\\n\u001b[39;00m\u001b[38;5;124m'\u001b[39m \u001b[38;5;241m+\u001b[39m stderr)\n\u001b[0;32m    157\u001b[0m error_msg \u001b[38;5;241m=\u001b[39m stderr \u001b[38;5;129;01mor\u001b[39;00m \u001b[38;5;124m'\u001b[39m\u001b[38;5;124mUnknown Error\u001b[39m\u001b[38;5;124m'\u001b[39m\n\u001b[0;32m    158\u001b[0m \u001b[38;5;28;01mraise\u001b[39;00m \u001b[38;5;167;01mIOError\u001b[39;00m(\u001b[38;5;124m\"\u001b[39m\u001b[38;5;124mwkhtmltopdf exited with non-zero code \u001b[39m\u001b[38;5;132;01m{0}\u001b[39;00m\u001b[38;5;124m. error:\u001b[39m\u001b[38;5;130;01m\\n\u001b[39;00m\u001b[38;5;132;01m{1}\u001b[39;00m\u001b[38;5;124m\"\u001b[39m\u001b[38;5;241m.\u001b[39mformat(exit_code, error_msg))\n",
      "\u001b[1;31mOSError\u001b[0m: wkhtmltopdf reported an error:\nExit with code 1 due to network error: ProtocolUnknownError\r\n"
     ]
    }
   ],
   "source": [
    "pdfkit.from_string(html_out, 'example.pdf', options=options)"
   ]
  },
  {
   "cell_type": "code",
   "execution_count": null,
   "id": "f31abb85-823f-4113-986f-f24bdebd9bd3",
   "metadata": {},
   "outputs": [],
   "source": []
  }
 ],
 "metadata": {
  "citation-manager": {
   "items": {}
  },
  "kernelspec": {
   "display_name": "Python 3.9",
   "language": "python",
   "name": "python39"
  },
  "language_info": {
   "codemirror_mode": {
    "name": "ipython",
    "version": 3
   },
   "file_extension": ".py",
   "mimetype": "text/x-python",
   "name": "python",
   "nbconvert_exporter": "python",
   "pygments_lexer": "ipython3",
   "version": "3.9.1"
  }
 },
 "nbformat": 4,
 "nbformat_minor": 5
}
